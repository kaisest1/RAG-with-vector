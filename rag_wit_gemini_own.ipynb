{
 "cells": [
  {
   "cell_type": "markdown",
   "metadata": {},
   "source": [
    "# Conversational Agent with Retrieval Augmented Generation"
   ]
  },
  {
   "cell_type": "markdown",
   "metadata": {},
   "source": [
    "### Step 1: Import necessary libraries"
   ]
  },
  {
   "cell_type": "code",
   "execution_count": 1,
   "metadata": {},
   "outputs": [
    {
     "name": "stderr",
     "output_type": "stream",
     "text": [
      "/home/codespace/.local/lib/python3.12/site-packages/tqdm/auto.py:21: TqdmWarning: IProgress not found. Please update jupyter and ipywidgets. See https://ipywidgets.readthedocs.io/en/stable/user_install.html\n",
      "  from .autonotebook import tqdm as notebook_tqdm\n"
     ]
    }
   ],
   "source": [
    "# Standard library imports\n",
    "import os  # For interacting with the operating system, e.g., file paths\n",
    "import asyncio  # For managing asynchronous tasks\n",
    "\n",
    "# Third-party library imports\n",
    "from dotenv import load_dotenv  # For loading environment variables from a .env file\n",
    "from PyPDF2 import PdfReader  # For reading PDF files\n",
    "import tqdm  # For displaying progress bars in loops\n",
    "\n",
    "# LangChain imports - Core functionality\n",
    "from langchain.text_splitter import RecursiveCharacterTextSplitter  # For splitting text into manageable chunks\n",
    "from langchain.prompts import PromptTemplate  # For defining and managing prompt templates\n",
    "from langchain.chains.combine_documents import create_stuff_documents_chain  # For combining retrieved documents into a coherent chain\n",
    "from langchain.globals import set_debug  # For enabling debug mode in LangChain\n",
    "\n",
    "# LangChain - Google Generative AI integrations\n",
    "from langchain_google_genai import GoogleGenerativeAIEmbeddings  # For generating embeddings using Google Generative AI\n",
    "from langchain_google_genai import ChatGoogleGenerativeAI  # For chat-based interactions with Google Generative AI\n",
    "\n",
    "# LangChain - Vector store\n",
    "from langchain_community.vectorstores import FAISS  # For storing and retrieving embeddings using the FAISS library\n",
    "\n",
    "# LangChain - Advanced prompt management and messages\n",
    "from langchain_core.prompts import ChatPromptTemplate, MessagesPlaceholder  # For creating structured chat prompts\n",
    "from langchain_core.messages import HumanMessage, AIMessage  # For handling human and AI messages\n",
    "from langchain_core.output_parsers import StrOutputParser  # For parsing string outputs from models\n",
    "from langchain_core.runnables import RunnableBranch  # For creating branches in the chain of execution\n",
    "\n",
    "from typing import Dict\n",
    "from langchain_core.runnables import RunnablePassthrough\n",
    "\n",
    "import nest_asyncio\n",
    "import weave\n",
    "nest_asyncio.apply()\n"
   ]
  },
  {
   "cell_type": "markdown",
   "metadata": {},
   "source": [
    "### Step 2: Setting Up Environment Variables and PDF Path\n",
    "\n",
    "In this section, we:\n",
    "1. **Load Environment Variables**: We use the `load_dotenv()` function to load key-value pairs from a `.env` file into the environment. This allows us to securely manage sensitive information such as API keys.\n",
    "   - The API key for Google Generative AI is stored in an environment variable called `GOOGLE_API_KEY`.\n",
    "2. **Define the PDF Path**: The `pdf_path` variable specifies the location of the PDF file that we will process in subsequent steps.\n",
    "   - Ensure that the file exists at the specified path before proceeding."
   ]
  },
  {
   "cell_type": "code",
   "execution_count": 2,
   "metadata": {},
   "outputs": [],
   "source": [
    "load_dotenv()\n",
    "key = os.getenv(\"GOOGLE_API_KEY\")\n",
    "pdf_path = \"data/WM25_Disposition_eVoting.pdf\""
   ]
  },
  {
   "cell_type": "markdown",
   "metadata": {},
   "source": [
    "### Step 3: Reading and Extracting Text from the PDF\n",
    "\n",
    "In this step, we process the PDF file to extract its textual content.\n",
    "\n",
    "1. **Open the PDF File**\n",
    " \n",
    "2. **Initialize the PDF Reader**: We use the `PdfReader` class from the `PyPDF2` library to parse the PDF.\n",
    "\n",
    "3. **Extract Text**: \n",
    "   - A generator expression iterates over all pages in the PDF, using `page.extract_text()` to extract the text content of each page.\n",
    "   - Pages that do not contain text are skipped (`if page.extract_text()`).\n",
    "\n",
    "4. **Combine Text**: The extracted text from all pages is concatenated into a single string using `\"\".join(...)`.\n",
    "\n",
    "#### Notes:\n",
    "- If the PDF is large, this approach might consume significant memory. For large PDFs, consider processing pages in smaller batches.\n",
    "- The output variable `text` contains all the text extracted from the PDF and will be used in subsequent steps."
   ]
  },
  {
   "cell_type": "code",
   "execution_count": 3,
   "metadata": {},
   "outputs": [
    {
     "data": {
      "text/plain": [
       "'Zürcher Hochschule für Angewandte Wissenschaften ZHAW  \\nSchool of Management and Law  \\n \\n \\nDisposition: E-Voting in der Schweiz: welche \\nHürden stehen der E inführung noch im Weg?  \\n \\n \\n \\n \\nDozent: Philipp Stalder  \\nDepartment: School of Management and Law  \\nModul: w.BA.XX.3WM -WIN.XX  Wissenschaftliche  Method en \\nSemester: 6. Semester  \\n \\n \\n \\n \\nAbgabedatum: 13.04.2025 \\n  1 \\n Abstract \\nE-Voting gilt als vielversprechende Möglichkeit, demokratische Prozesse in der Schweiz zu \\nmodernisieren und insbesondere Auslandschweizer n sowie mobilitätseingeschränkten Personen \\ndie Stimmabgabe zu erleichtern. Trotz langjähriger Pilotprojekte bestehen weiterhin erhebliche \\nHürden, etwa im Bereich der technischen Sicherheit, des Datenschutzes und der politischen \\nUmsetzung. Ziel dieser Arbeit ist es, zentrale Barrieren bei der Einführung von E -Voting zu \\nidentifizieren und zu analysieren. Dafür wird ein ded uktiv-induktiver Forschungsansatz gewählt, \\nder theoretische Modelle mit empirischer Datenerhebung kombiniert. Im Zentrum steht eine \\nstandardisierte Online -Umfrage, mit der Akzeptanz, Bedenken und Erwartungen potenzieller \\nNutzer n in der Schweiz erhoben werden. Die Ergebnisse werden quantitativ und qualitativ \\nausgewertet, um praxisnahe Empfehlungen für die Weiterentwicklung elektronischer \\nWahlsysteme abzuleiten. Die Arbeit leistet damit einen Beitrag zur wissenschaftlichen und \\npolitischen Diskussion rund um die Zukunft des E -Voting in der Schweiz.  \\nStichworte  E-Voting · Schweiz · elektronische  Wahlen · E-Government · digitale Demokratie  \\nHürden  · Blockchain  · Sicher heit · Datenschutz  \\n1. Problemstellung und Relevanz des Themas  \\nDie Einführung von E -Voting in der Schweiz steht trotz langjähriger Pilotversuche und \\ntechnologischer Entwicklungen vor erheblichen Herausforderungen. So besteht zwar eine hohe \\ngrundsätzliche Akzeptanz für elektronische Wahlsysteme  (Pleger & Mertes, 2018, S. 5) , doch \\ngleichzeitig bleiben substanzielle Bedenken hinsichtlich Sicherheit, Datenschutz und \\nTransparenz bestehen  (Agate et al., 2021, S. 2; Sheela & Franklin, 2021, S. 6) . Sicherheitsrisiken \\nbetreffen insbesondere Manipulationsmöglichkeiten  und die Gewährleistung des \\nWahlgeheimnisses  (Rathee et al., 2021, S. 34175; Vladucu et al., 2023, S. 23294) .  \\nIn einer zunehmend mobilen und digitalisierten Gesellschaft wächst der Anspruch, politische \\nRechte flexibel, orts - und zeitunabhängig auszuüben. E -Voting adressiert dieses Bedürfnis: Es \\nerleichtert insbesondere Auslandschweizer n, älteren Menschen oder Personen mit \\neingeschränkter Mobilität die Teilnahme an Wahlen und Abstimmungen  und unterstützt somit die \\nE-Government -Strategie des Bundes (Reiners, 2020, S. 59) . Trotz  des technologischen \\nPotenzials  von Blockchain -basierten Systemen  besteh t weiterhin erheblicher Forschungsbedarf, \\ninsbesondere hinsichtlich Skalierbarkeit und Energieeffizienz  (Tanwar et al., 2024, S. 1470 –\\n1471) . \\n2. Stand der Forschung  \\nIm Folgenden werden zentrale Forschungsergebnisse dargestellt, die als Grundlage für die \\nempirische Untersuchung dieser Arbeit dienen. Dabei wird insbesondere auf Beiträge \\neingegangen, die sich mit der Wahrnehmung von Nutzern , innovativen Systemarchitekturen \\nsowie der Situation in der Schweiz befassen.  2 \\n 2.1. Nutzen und Akze ptanz  \\nPleger und Mertes (2018, S. 5)  untersuchen die Nutzung und Bewertung von E -Voting -Systemen \\ndurch Schweizer Staatsangehörige im Ausland auf Basis einer Online -Umfrage mit 596 \\nTeilnehmenden. Die Ergebnisse zeigen eine hohe Akzeptanz: 97\\u202f% der Befragten g eben an, E -\\nVoting nutzen zu wollen. Als zentrale Einflussfaktoren identifizierten die Autoren die \\nwahrgenommene Nützlichkeit und Benutzerfreundlichkeit des Systems sowie das Vertrauen in \\nstaatliche Institutionen und die Sicherheit der technischen Prozesse  (Pleger & Mertes, 2018, S. \\n7, 8). Die Studie stützt sich auf das Technology Acceptance Model (TAM) und erweitert dieses um \\ndie Dimension „Vertrauen“. Trotz der insgesamt positiven Bewertungen w ird in offenen Antworten \\ndeutlich, dass Bedenken hinsichtlich Datenschutz und Transparenz weiterhin bestehen (Pleger & \\nMertes, 2018, S. 7) . \\nPetitpas et al. (2021, S. 1)  untersuchen auf Basis individueller Stimmdaten aus dem Kanton Genf \\nden Einfluss von E -Voting auf die Wahlbeteiligung. Während aggregierte Studien bisher kaum \\nEffekte nachweisen konnten, zeigen die Autoren, dass E -Voting insbesondere bei Abstinenten \\nund Ge legenheitswählern die Teilnahme erhöht (Petitpas et al., 2021, S. 9, 10) . Dabei profitiert \\nvor allem die ältere Bevölkerung, während junge und Frauen vergleichsweise weniger mobilisiert \\nwerden. Insgesamt kommt die Studie zu m Schluss, dass E -Voting die politische Teilnahme unter \\nbestimmten Bedingungen fördern kann, ohne jedoch bestehende Ungleichheiten vollständig zu \\nüberwinden (Petitpas et al., 2021, S. 9) . Daten aus der Schweiz zeigen , dass zentrale politische \\nStrukturen, gesetzliche Anpassungen und konsensorientierte Zusammenarbeit wesentliche \\nErfolgsfaktoren für die Einführung und Umsetzung von E -Voting darstellen  (Reiners, 2020, S. 63) . \\nGleichzeitig verdeutlicht der Fall Zürich, wie politische Uneinigkeit, technische Unsicherheiten und \\ninstitutionelle Fragmentierung die Einführung von E -Voting -Systemen  hemmen können (Reiners, \\n2020, S. 68, 69) . \\n2.2. Technologische Konzepte  \\nNeben institutionellen Faktoren werden in der aktuellen Forschung vermehrt technologische \\nLösungen zur Verbesserung der Sicherheit und Transparenz diskutiert. Biometrie -basierte E -\\nVoting -Systeme sollen Manipulationen wie Mehrfachstimmenabgabe oder Wahlfäls chung \\nverhindern, etwa durch die Überprüfung des Fingerabdrucks  (Sheela & Franklin, 2021, S. 2) . \\nSolche Systeme erfüllen wesentliche Sicherheitsanforderungen wie Anonymität, Nicht -\\nNachvollziehbarkeit und öffentliche Verifizierbarkeit und stellen damit eine praktikable Alternative \\nzu herkömmlichen E -Voting -Systemen dar  (Sheela & Franklin, 2021, S. 6) . SecureBallot ist ein \\nquelloffenes, kryptografisch abgesichertes E -Voting -System, das auf die strikte Trennung von \\nWähleridentifikation und Stimmabgabe setzt. Ziel ist es, die Privatsphäre der Wählenden zu \\nschützen und gleichzeitig zentrale Sicherheitsanfor derungen wie Anonymität, Unveränderbarkeit \\nund Authentizität zu gewährleisten  (Agate et al., 2021, S. 2) . \\nDie Stimmabgabe erfolgt an physisch betreuten Wahlstationen mithilfe temporärer, anonymer \\nIdentitäten (Tokens), wodurch eine Rückverfolgbarkeit ausgeschlossen wird. Die Offenlegung des 3 \\n Quellcodes stärkt die Transparenz und Nachvollziehbarkeit und ermöglicht eine flexible \\nAnpassung an unterschiedliche Wahlszenarien  (Agate et al., 2021, S. 2) . \\nDas Ziel des E -Voting -Systems von Zhang et al.  (2022, S. 3609)  ist es, Verifizierbarkeit mit starker \\nPrivatsphäre zu kombinieren, ohne die Systemeffizienz zu beeinträchtigen. Besonderes \\nAugenmerk liegt auf dem Schutz vor Subversion durch die Wahlleitung sowie der Crowd -\\nVerifizierbarkeit durch Wählende selbst. Im Vergl eich zu anderen Systemen wie Helios bietet das \\nvorgeschlagene System höhere Sicherheit bei vergleichbarer Performance und ist für reale \\nWahlen praktikabel einsetzbar (Zhang et al., 2022, S. 3618) . \\nDezentrale E -Voting -Architekturen sollen darüber hinaus die Sicherheit und Transparenz durch \\nverteilte Systeme gewährleisten. Der Ansatz von Soares und Vasconcelo (2023, S. 3)  kombiniert \\nKonsensalgorithmen mit zeitbasierter Verschlüsselung, um Wahlmanipulationen zu verhindern \\nund das Wahlgeheimnis zu wahren, während die Abhängigkeit von zentralen Autoritäten minimiert \\nwird. Die Autoren identifizieren praktische Herausforderunge n wie mögliche Angriffe auf die \\nZertifizierungsstelle und die Komplexität der Konsensfindung in Zweiparteiensystemen  (2023, S. \\n8). Obwohl das Konzept vielversprechend ist, betonen sie den Bedarf weiterer Forschung, \\ninsbesondere zur praktischen Umsetzung der Verschlüsselungstechniken und zur Verbesserung \\nder Wähleranonymität, bevor das System in der Praxis eingesetzt werden kann  (Soares & \\nVasconcelos, 2023, S. 13) . \\n2.3. Blockchain  \\nEin weiterer Forschungsschwerpunkt liegt auf dem Einsatz von Blockchain -Technologie. Das von \\nRathee et al.  (2021, S. 34165)  entwickelte Blockchain -basierte E -Voting -System ist in die \\nInfrastruktur von IoT -orientierten Smart Cities eingebettet. Ihr Ziel ist es, Sicherheitsrisiken bei \\nelektronischen Wahlen zu minimieren, insbesondere durch die Kombination von Blockchain -\\nTechnolo gie mit einem Vertrauensbewertungsmechanismus für IoT -Geräte (Rathee et al., 2021, \\nS. 34168) . Das System identifiziert vertrauenswürdige Geräte durch ein sozial optimiertes \\nBewertungsverfahren und nutzt Blockchain zur dezentralen, transparenten Speicherung und \\nNachverfolgung von Wahlvorgängen. Die Autoren zeigen, dass ihr Ansatz gegenüber \\nbestehe nden Verfahren verbesserte Ergebnisse hinsichtlich Authentifizierungsverzögerung, \\nAngriffserkennung (z.\\u202fB.  DDoS) und Manipulationssicherheit aufweist (Rathee et al., 2021, S. \\n34175) . \\nVladucu et al. (2023, S. 23294)  bieten einen Überblick über mehr als 60 Blockchain -basierte E -\\nVoting -Systeme. Die Studie beleuchtet die Potenziale von Blockchain zur Erhöhung von \\nTransparenz, Sicherheit und Unveränderbarkeit elektronischer Wahlprozesse. Dabei werden \\nverschiedene Blockch ain-Typen (öffentlich, privat, hybrid), Konsensalgorithmen (z.\\u202fB. Proof of \\nWork, PBFT, Proof of Vote) sowie kryptografische Verfahren (z.\\u202fB. Zero -Knowledge -Proofs, Blind \\nSignatures) vorgestellt (Vladucu et al., 2023, S. 23295, 23296) . Es werden reale Anwendungen \\naus Ländern wie Estland, Australien, Russland und der Schweiz analysiert und kommerzielle \\nSysteme wie Voatz, Polyas oder Follow My Vote diskutiert  (Vladucu et al., 2023, S. 23303) . Die 4 \\n Autoren identifizieren offene Forschungsfelder, zum Beispiel hinsichtlich Skalierbarkeit, \\nBenutzerfreundlichkeit, Interoperabilität und Vertrauensbildung, besonders für Nutzergruppen \\nohne technische Affinität (Vladucu et al., 2023, S. 23299) .  \\nAlshehri et al. (2023, S. 1)  beschreiben ein Blockchain -basiertes E -Voting -System, das Score -\\nVoting ermöglicht und dabei Privatsphäre sowie Sicherheit gewährleistet. Das System nutzt Zero -\\nKnowledge -Beweise, um sicherzustellen, dass die abgegebenen Stimmen innerhalb eines \\ndefinierten B ereichs liegen, ohne die konkreten Werte preiszugeben (Alshehri et al., 2023, S. 2) . \\nDurch die Dezentralität der Blockchain wird Manipulation verhindert und Transparenz gewahrt. \\nExperimentelle Ergebnisse zeigen, dass das System bis zu 10.000 Transaktionen effizient \\nverarbeiten kann, was es für kleine bis mittelgrosse Wahlen geeignet mach t (Alshehri et al., 2023, \\nS. 14) . \\nDie Hauptvorteile von Blockchain -basierten E -Voting -Systemen sind Sicherheit, Transparenz und \\nEffizienz durch Unveränderbarkeit, Dezentralisierung und Smart Contracts (Hajian \\nBerenjestanaki et al., 2024, S. 1)  sowie eine potentiell höhere Wahlbeteiligung (Mannonov & \\nMyeong, 2024, S. 14) . Smart Contracts sind digitale Verträge, die auf der Blockchain gespeichert \\nund automatisch ausgeführt werden, sobald die im Code festgelegten Bedingungen erfüllt sind. \\nSie fungieren als Backend für dezentrale Anwendungen und ermöglichen den sicheren Austau sch \\ndigitaler Vermögenswerte ohne Zwischeninstanzen. Trotz ihres Potenzials steckt die Technologie \\nnoch in den Anfängen und wird derzeit vor allem für Kryptowährungstransaktionen und \\nEigentumsnachweise genutzt  (Tanwar et al., 2024, S. 1457) . \\nEs bestehen Herausforderungen wie Skalierbarkeitsprobleme bei grossen Wahlen und die \\nschwierige Balance zwischen Anonymität und Nachvollziehbarkeit. Lösungsansätze umfassen \\nZero-Knowledge -Proofs und homomorphe Verschlüsselung, um Datenschutz und \\nVerifizierba rkeit zu gewährleisten  (Hajian Berenjestanaki et al., 2024, S. 26) . Während die \\nTechnologie grosses Potenzial zeigt, sind weitere Forschung und praktische Tests notwendig, um \\nsie für den breiten Einsatz in demokratischen Wahlen zu optimieren  (Hajian Berenjestanaki et al., \\n2024, S. 31) . Die Akzeptanz solcher Systeme hängt massgeblich von der wahrgenommenen \\nBenutzerfreundlichkeit und dem Nutzen ab, wobei Vertrauen in die Technologie eine zentrale \\nRolle spielt  (Mannonov & Myeong, 2024, S. 1) . Die Integration von künstlicher Intelligenz könnte \\nzusätzlich die Authentifizierung von Wählern verbessern und Manipulationsversuche erkennen \\n(Mannonov & Myeong, 2024, S. 14) . Dennoch bleiben Herausforderungen wie die digitale \\nInfrastruktur und rechtliche Rahmenbedingungen entscheidende Faktoren für eine erfolgreiche \\nImplementierung  (Mannonov & Myeong, 2024, S. 6) . \\nTanwar et al. (2024, S. 1449)  präsentieren ebenfalls eine Blockchain -basierte E -Voting -Lösung, \\ndie auf Ethereum -Smart Contracts und einer dezentralen Anwendung (DApp) basiert. Sie ist in \\nder Lage, Doppelabstimmungen zu verhindern und Echtzeit -Ergebnisse überprüfbar zu machen, \\nwährend die Identität der Wählenden geschützt bleibt  (Tanwar et al., 2024, S. 1461) . Die \\nImplementierung umfasst eine Frontend -Oberfläche, die über MetaMask mit der Blockchain \\ninteragiert, sowie Tests mit Truffle und Ganache zur Validierung der Funktionalität  (Tanwar et al., 5 \\n 2024, S. 1463) . Trotz des Potenzials identifiziert die Studie Herausforderungen wie Skalierbarkeit, \\nEnergieverbrauch und die Komplexität von Smart Contracts, die weitere Forschung erfordern \\n(Tanwar et al., 2024, S. 1469 –1471) .  \\nDas von Jayakumari et al. (2024, S. 103)  vorgestellte Cloud -basierte E -Voting -System, welches \\nhybride Blockchain -Technologie nutzt, kombiniert zeitstempelbasierte Authentifizierung mit \\ndigitalen Signaturen für die Wählerregistrierung, Smart Contracts zur Vermeidung von \\nManipulationen und den PBF T-Konsensmechanismus für eine sichere Stimmauszählung. \\nExperimentelle Ergebnisse zeigen eine signifikante Reduktion von \\nAuthentifizierungsverzögerungen (um 50\\u202f%) und Stimmmanipulationen (um 55\\u202f%) im Vergleich \\nzu bestehenden Systemen  (Jayakumari et al., 2024, S. 106) . Die Autoren betonen das Potenzial \\nder Technologie für demokratische Wahlen, identifizieren jedoch Handlungsbedarf hinsichtlich \\nSkepsis der Bevölkerung, gesetzlichen Rahmenbedingungen und Benutzerfreundlichkeit  \\n(Jayakumari et al., 2024, S. 108) . \\n3. Forschungsfrage  \\nAusgehend von der dargestellten Problemstellung stellt sich die Frage, welche politischen, \\ninstitutionellen und technischen Hürden einer flächendeckenden Einführung von E -Voting in der \\nSchweiz derzeit noch im Weg stehen. Ziel der Arbeit ist es, die zentral en Erfolgs - und \\nMisserfolgsfaktoren anhand von Rückmeldu ngen von  wahlbere chtigten Personen  zu analysieren \\nund daraus Rückschlüsse für zukünftige Entwicklungen zu ziehen.  \\nDie Forschungsfrage lautet  «Welche Hürden stehen der dauerhaften und breiten Einführung von \\nE-Voting in der Schweiz aktuell noch im Weg? ». \\nSie orientier t sich an der Zielsetzung, bestehende Barrieren zu identifizieren und vor dem \\nHintergrund internationaler Entwicklungen und technischer Innovationen einzuordnen. Zugleich \\nwird angestrebt, praxisrelevante Handlungsempfehlungen für die Weiterentwicklung \\nelektronischer Wahlsysteme in der Schweiz abzuleiten . \\n4. Forschungsdesign und Methodisches Vorgehen  \\nZur Beantwortung der Forschungsfrage wird ein mixed -method -Ansatz gewählt, der deduktive \\nund induktive Elemente kombiniert. Ausgangspunkt ist ein deduktives Vorgehen, das auf \\ntheoretischen Annahmen und bestehenden Studien zur E -Voting -Akzeptanz basiert (z. \\u202fB. \\nTechnology Acceptance Model, Datenschutztheorien, institutionelle Ansätze). Diese werden in \\neinem zweiten Schritt durch induktiv erhobene empirische Daten ergänzt, um neue  Erkenntnisse \\nüber bestehende Hürden und Akzeptanzbarrieren zu gewinnen.  Kern des empirischen Teils ist \\neine standardisierte Online -Umfrage, die sich an Schweizer Bürger  richtet. Ziel ist es, konkrete \\nBedenken, Erwartungen und Wahrnehmungen im Zusammenhang mit E -Voting zu erheben. Der \\nFragebogen enthält sowohl geschlossene (Likert -Skalen) als auch offene Fragen und orientiert 6 \\n sich an den zentralen Themen Sicherheit, Datenschutz, Vertrauen, Bedienbarkeit und politisches \\nInteresse.  \\nErgänzend wird erhoben, welche technischen oder politischen Rahmenbedingungen aus Sicht \\nder Befragten notwendig wären, um E -Voting zu unterstützen.  Die Umfrage wird über Online -\\nKanäle, Hochschulnetzwerke und soziale Medien verbreitet, um eine möglichst heterogene \\nTeilnehmergruppe zu erreichen.  Die geschlossenen Fragen werden quantitativ -statistisch \\nausgewertet , während offene Antworten einer qualitativen Inhaltsanalyse unterzogen werden. Die \\nErgebnisse sollen bestehende Forschung ergänzen, neue Hypothesen generieren und praktische \\nEmpfehlungen für die Weiterentwicklung von E -Voting -Systemen in der Schweiz ableiten.  \\n  7 \\n Literaturverzeichnis  \\nAgate, V., De Paola, A., Ferraro, P., Lo Re, G., & Morana, M. (2021). SecureBallot: A secure \\nopen source e -Voting system. Journal of Network and Computer Applications , 191, \\n103165. https://doi.org/10.1016/j.jnca.2021.103165  \\nAlshehri, A., Baza, M., Srivastava, G., Rajeh, W., Alrowaily, M., & Almusali, M. (2023). Privacy -\\nPreserving E -Voting System Supporting Score Voting Using Blockchain. Applied \\nSciences , 13(2), Article 2. https://doi.org/10.3390/app13021096  \\nHajian Berenjestanaki, M., Barzegar, H. R., El Ioini, N., & Pahl, C. (2024). Blockchain -Based E -\\nVoting Systems: A Technology Review. Electronics , 13(1), Article 1. \\nhttps://doi.org/10.3390/electronics13010017  \\nJayakumari, B., Sheeba, S. L., Eapen, M., Anbarasi, J., Ravi, V., Suganya, A., & Jawahar, M. \\n(2024). E -voting system using cloud -based hybrid blockchain technology. Journal of \\nSafety Science and Resilience , 5(1), 102 –109. \\nhttps://doi.org/10.1016/j.jnlssr.2024.01.002  \\nMannonov, K. M. ugli, & Myeong, S. (2024). Citizens’ Perception of Blockchain -Based E -Voting \\nSystems: Focusing on TAM. Sustainability , 16(11), Article 11. \\nhttps://doi.org/10.3390/su16114387  \\nPetitpas, A., Jaquet, J. M., & Sciarini, P. (2021). Does E -Voting matter for turnout, and to whom? \\nElectoral Studies , 71, 102245. https://doi.org/10.1016/j.electstud.2020.102245  \\nPleger, L. E., & Mertes, A. (2018). Use and assessment of e -voting systems: Findings from an \\nonline -survey among Swiss nationals living abroad. In Swiss Yearbook of Administrative \\nScience  (Bd. 9). Schweizerische Gesellschaft für Verwaltungswissenschaften. \\nhttps://doi.org/10.5334/ssas.1  \\nRathee, G., Iqbal, R., Waqar, O., & Bashir, A. K. (2021). On the Design and Implementation of a \\nBlockchain Enabled E -Voting Application Within IoT -Oriented Smart Cities. IEEE \\nAccess , 9, 34165 –34176. IEEE Access. https://doi.org/10.1109/ACCESS.2021.3061411  \\nReiners, M. (2020). Vote Électronique in Switzerland: Comparison of Relevant Pilot Projects. \\nJournal of Comparative Politics , 13(1), 58 –75. 8 \\n Sheela, A. C. S., & Franklin, Ramya. G. (2021). E -Voting System Using Homomorphic \\nEncryption Technique. Journal of Physics: Conference Series , 1770 (1), 012011. \\nhttps://doi.org/10.1088/1742 -6596/1770/1/012011  \\nSoares, J. M., & Vasconcelos, R. O. (2023). A distributed architecture proposal for e -voting. \\nTexto Livre , 16, e42204. https://doi.org/10.1590/1983 -3652.2023.42204  \\nTanwar, S., Gupta, N., Kumar, P., & Hu, Y. -C. (2024). Implementation of blockchain -based e -\\nvoting system. Multimedia Tools and Applications , 83(1), 1449 –1480. \\nhttps://doi.org/10.1007/s11042 -023-15401 -1 \\nVladucu, M. -V., Dong, Z., Medina, J., & Rojas -Cessa, R. (2023). E -Voting Meets Blockchain: A \\nSurvey. IEEE Access , 11, 23293 –23308. IEEE Access. \\nhttps://doi.org/10.1109/ACCESS.2023.3253682  \\nZhang, X., Zhang, B., Kiayias, A., Zacharias, T., & Ren, K. (2022). An Efficient E2E Crowd \\nVerifiable E -Voting System. IEEE Transactions on Dependable and Secure Computing , \\n19(6), 3607 –3620. IEEE Transactions on Dependable and Secure Computing. \\nhttps://doi.org/10.1109/TDSC.2021.3103336  \\n '"
      ]
     },
     "execution_count": 3,
     "metadata": {},
     "output_type": "execute_result"
    }
   ],
   "source": [
    "with open(pdf_path, \"rb\") as file:\n",
    "    reader = PdfReader(file)\n",
    "     # Extract text from all pages in the PDF\n",
    "    text = \"\".join(page.extract_text() for page in reader.pages if page.extract_text())\n",
    "    \n",
    "# Display the extracted text\n",
    "text"
   ]
  },
  {
   "cell_type": "markdown",
   "metadata": {},
   "source": [
    "### Step 4: Splitting Text into Manageable Chunks\n",
    "\n",
    "In this step, we divide the extracted text into smaller, overlapping chunks for better processing in later stages.\n",
    "\n",
    "1. **Initialize the Text Splitter**:\n",
    "   - We use the `RecursiveCharacterTextSplitter` from LangChain, which is designed to split large texts into smaller pieces without necessarily respecting semantic coherence.\n",
    "   - Parameters:\n",
    "     - `chunk_size=10000`: Each chunk contains up to 10,000 characters.\n",
    "     - `chunk_overlap=1000`: Adjacent chunks overlap by 1,000 characters. This overlap ensures context is maintained across chunks.\n",
    "\n",
    "3. **Split the Text**:\n",
    "   - The `split_text()` method splits the input text (from the previous step) into chunks based on the specified parameters.\n",
    "   - The resulting `chunks` is a list of strings, each representing a section of the original text.\n",
    "\n",
    "#### Notes:\n",
    "- The choice of `chunk_size` and `chunk_overlap` depends on the use case and model constraints. Larger models can typically handle larger chunks.\n",
    "- The `chunks` will be used in downstream tasks such as retrieval or generation."
   ]
  },
  {
   "cell_type": "code",
   "execution_count": 4,
   "metadata": {},
   "outputs": [
    {
     "data": {
      "text/plain": [
       "['Zürcher Hochschule für Angewandte Wissenschaften ZHAW  \\nSchool of Management and Law  \\n \\n \\nDisposition: E-Voting in der Schweiz: welche \\nHürden stehen der E inführung noch im Weg?  \\n \\n \\n \\n \\nDozent: Philipp Stalder  \\nDepartment: School of Management and Law  \\nModul: w.BA.XX.3WM -WIN.XX  Wissenschaftliche  Method en \\nSemester: 6. Semester  \\n \\n \\n \\n \\nAbgabedatum: 13.04.2025 \\n  1 \\n Abstract \\nE-Voting gilt als vielversprechende Möglichkeit, demokratische Prozesse in der Schweiz zu \\nmodernisieren und insbesondere Auslandschweizer n sowie mobilitätseingeschränkten Personen \\ndie Stimmabgabe zu erleichtern. Trotz langjähriger Pilotprojekte bestehen weiterhin erhebliche \\nHürden, etwa im Bereich der technischen Sicherheit, des Datenschutzes und der politischen \\nUmsetzung. Ziel dieser Arbeit ist es, zentrale Barrieren bei der Einführung von E -Voting zu \\nidentifizieren und zu analysieren. Dafür wird ein ded uktiv-induktiver Forschungsansatz gewählt, \\nder theoretische Modelle mit empirischer Datenerhebung kombiniert. Im Zentrum steht eine \\nstandardisierte Online -Umfrage, mit der Akzeptanz, Bedenken und Erwartungen potenzieller \\nNutzer n in der Schweiz erhoben werden. Die Ergebnisse werden quantitativ und qualitativ \\nausgewertet, um praxisnahe Empfehlungen für die Weiterentwicklung elektronischer \\nWahlsysteme abzuleiten. Die Arbeit leistet damit einen Beitrag zur wissenschaftlichen und \\npolitischen Diskussion rund um die Zukunft des E -Voting in der Schweiz.  \\nStichworte  E-Voting · Schweiz · elektronische  Wahlen · E-Government · digitale Demokratie  \\nHürden  · Blockchain  · Sicher heit · Datenschutz  \\n1. Problemstellung und Relevanz des Themas  \\nDie Einführung von E -Voting in der Schweiz steht trotz langjähriger Pilotversuche und \\ntechnologischer Entwicklungen vor erheblichen Herausforderungen. So besteht zwar eine hohe \\ngrundsätzliche Akzeptanz für elektronische Wahlsysteme  (Pleger & Mertes, 2018, S. 5) , doch \\ngleichzeitig bleiben substanzielle Bedenken hinsichtlich Sicherheit, Datenschutz und \\nTransparenz bestehen  (Agate et al., 2021, S. 2; Sheela & Franklin, 2021, S. 6) . Sicherheitsrisiken \\nbetreffen insbesondere Manipulationsmöglichkeiten  und die Gewährleistung des \\nWahlgeheimnisses  (Rathee et al., 2021, S. 34175; Vladucu et al., 2023, S. 23294) .  \\nIn einer zunehmend mobilen und digitalisierten Gesellschaft wächst der Anspruch, politische \\nRechte flexibel, orts - und zeitunabhängig auszuüben. E -Voting adressiert dieses Bedürfnis: Es \\nerleichtert insbesondere Auslandschweizer n, älteren Menschen oder Personen mit \\neingeschränkter Mobilität die Teilnahme an Wahlen und Abstimmungen  und unterstützt somit die \\nE-Government -Strategie des Bundes (Reiners, 2020, S. 59) . Trotz  des technologischen \\nPotenzials  von Blockchain -basierten Systemen  besteh t weiterhin erheblicher Forschungsbedarf, \\ninsbesondere hinsichtlich Skalierbarkeit und Energieeffizienz  (Tanwar et al., 2024, S. 1470 –\\n1471) . \\n2. Stand der Forschung  \\nIm Folgenden werden zentrale Forschungsergebnisse dargestellt, die als Grundlage für die \\nempirische Untersuchung dieser Arbeit dienen. Dabei wird insbesondere auf Beiträge \\neingegangen, die sich mit der Wahrnehmung von Nutzern , innovativen Systemarchitekturen \\nsowie der Situation in der Schweiz befassen.  2 \\n 2.1. Nutzen und Akze ptanz  \\nPleger und Mertes (2018, S. 5)  untersuchen die Nutzung und Bewertung von E -Voting -Systemen \\ndurch Schweizer Staatsangehörige im Ausland auf Basis einer Online -Umfrage mit 596 \\nTeilnehmenden. Die Ergebnisse zeigen eine hohe Akzeptanz: 97\\u202f% der Befragten g eben an, E -\\nVoting nutzen zu wollen. Als zentrale Einflussfaktoren identifizierten die Autoren die \\nwahrgenommene Nützlichkeit und Benutzerfreundlichkeit des Systems sowie das Vertrauen in \\nstaatliche Institutionen und die Sicherheit der technischen Prozesse  (Pleger & Mertes, 2018, S. \\n7, 8). Die Studie stützt sich auf das Technology Acceptance Model (TAM) und erweitert dieses um \\ndie Dimension „Vertrauen“. Trotz der insgesamt positiven Bewertungen w ird in offenen Antworten \\ndeutlich, dass Bedenken hinsichtlich Datenschutz und Transparenz weiterhin bestehen (Pleger & \\nMertes, 2018, S. 7) . \\nPetitpas et al. (2021, S. 1)  untersuchen auf Basis individueller Stimmdaten aus dem Kanton Genf \\nden Einfluss von E -Voting auf die Wahlbeteiligung. Während aggregierte Studien bisher kaum \\nEffekte nachweisen konnten, zeigen die Autoren, dass E -Voting insbesondere bei Abstinenten \\nund Ge legenheitswählern die Teilnahme erhöht (Petitpas et al., 2021, S. 9, 10) . Dabei profitiert \\nvor allem die ältere Bevölkerung, während junge und Frauen vergleichsweise weniger mobilisiert \\nwerden. Insgesamt kommt die Studie zu m Schluss, dass E -Voting die politische Teilnahme unter \\nbestimmten Bedingungen fördern kann, ohne jedoch bestehende Ungleichheiten vollständig zu \\nüberwinden (Petitpas et al., 2021, S. 9) . Daten aus der Schweiz zeigen , dass zentrale politische \\nStrukturen, gesetzliche Anpassungen und konsensorientierte Zusammenarbeit wesentliche \\nErfolgsfaktoren für die Einführung und Umsetzung von E -Voting darstellen  (Reiners, 2020, S. 63) . \\nGleichzeitig verdeutlicht der Fall Zürich, wie politische Uneinigkeit, technische Unsicherheiten und \\ninstitutionelle Fragmentierung die Einführung von E -Voting -Systemen  hemmen können (Reiners, \\n2020, S. 68, 69) . \\n2.2. Technologische Konzepte  \\nNeben institutionellen Faktoren werden in der aktuellen Forschung vermehrt technologische \\nLösungen zur Verbesserung der Sicherheit und Transparenz diskutiert. Biometrie -basierte E -\\nVoting -Systeme sollen Manipulationen wie Mehrfachstimmenabgabe oder Wahlfäls chung \\nverhindern, etwa durch die Überprüfung des Fingerabdrucks  (Sheela & Franklin, 2021, S. 2) . \\nSolche Systeme erfüllen wesentliche Sicherheitsanforderungen wie Anonymität, Nicht -\\nNachvollziehbarkeit und öffentliche Verifizierbarkeit und stellen damit eine praktikable Alternative \\nzu herkömmlichen E -Voting -Systemen dar  (Sheela & Franklin, 2021, S. 6) . SecureBallot ist ein \\nquelloffenes, kryptografisch abgesichertes E -Voting -System, das auf die strikte Trennung von \\nWähleridentifikation und Stimmabgabe setzt. Ziel ist es, die Privatsphäre der Wählenden zu \\nschützen und gleichzeitig zentrale Sicherheitsanfor derungen wie Anonymität, Unveränderbarkeit \\nund Authentizität zu gewährleisten  (Agate et al., 2021, S. 2) . \\nDie Stimmabgabe erfolgt an physisch betreuten Wahlstationen mithilfe temporärer, anonymer \\nIdentitäten (Tokens), wodurch eine Rückverfolgbarkeit ausgeschlossen wird. Die Offenlegung des 3 \\n Quellcodes stärkt die Transparenz und Nachvollziehbarkeit und ermöglicht eine flexible \\nAnpassung an unterschiedliche Wahlszenarien  (Agate et al., 2021, S. 2) . \\nDas Ziel des E -Voting -Systems von Zhang et al.  (2022, S. 3609)  ist es, Verifizierbarkeit mit starker \\nPrivatsphäre zu kombinieren, ohne die Systemeffizienz zu beeinträchtigen. Besonderes \\nAugenmerk liegt auf dem Schutz vor Subversion durch die Wahlleitung sowie der Crowd -\\nVerifizierbarkeit durch Wählende selbst. Im Vergl eich zu anderen Systemen wie Helios bietet das \\nvorgeschlagene System höhere Sicherheit bei vergleichbarer Performance und ist für reale \\nWahlen praktikabel einsetzbar (Zhang et al., 2022, S. 3618) . \\nDezentrale E -Voting -Architekturen sollen darüber hinaus die Sicherheit und Transparenz durch \\nverteilte Systeme gewährleisten. Der Ansatz von Soares und Vasconcelo (2023, S. 3)  kombiniert \\nKonsensalgorithmen mit zeitbasierter Verschlüsselung, um Wahlmanipulationen zu verhindern \\nund das Wahlgeheimnis zu wahren, während die Abhängigkeit von zentralen Autoritäten minimiert \\nwird. Die Autoren identifizieren praktische Herausforderunge n wie mögliche Angriffe auf die \\nZertifizierungsstelle und die Komplexität der Konsensfindung in Zweiparteiensystemen  (2023, S. \\n8). Obwohl das Konzept vielversprechend ist, betonen sie den Bedarf weiterer Forschung, \\ninsbesondere zur praktischen Umsetzung der Verschlüsselungstechniken und zur Verbesserung \\nder Wähleranonymität, bevor das System in der Praxis eingesetzt werden kann  (Soares & \\nVasconcelos, 2023, S. 13) . \\n2.3. Blockchain  \\nEin weiterer Forschungsschwerpunkt liegt auf dem Einsatz von Blockchain -Technologie. Das von \\nRathee et al.  (2021, S. 34165)  entwickelte Blockchain -basierte E -Voting -System ist in die \\nInfrastruktur von IoT -orientierten Smart Cities eingebettet. Ihr Ziel ist es, Sicherheitsrisiken bei \\nelektronischen Wahlen zu minimieren, insbesondere durch die Kombination von Blockchain -\\nTechnolo gie mit einem Vertrauensbewertungsmechanismus für IoT -Geräte (Rathee et al., 2021, \\nS. 34168) . Das System identifiziert vertrauenswürdige Geräte durch ein sozial optimiertes \\nBewertungsverfahren und nutzt Blockchain zur dezentralen, transparenten Speicherung und \\nNachverfolgung von Wahlvorgängen. Die Autoren zeigen, dass ihr Ansatz gegenüber \\nbestehe nden Verfahren verbesserte Ergebnisse hinsichtlich Authentifizierungsverzögerung, \\nAngriffserkennung (z.\\u202fB.  DDoS) und Manipulationssicherheit aufweist (Rathee et al., 2021, S. \\n34175) . \\nVladucu et al. (2023, S. 23294)  bieten einen Überblick über mehr als 60 Blockchain -basierte E -\\nVoting -Systeme. Die Studie beleuchtet die Potenziale von Blockchain zur Erhöhung von \\nTransparenz, Sicherheit und Unveränderbarkeit elektronischer Wahlprozesse. Dabei werden \\nverschiedene Blockch ain-Typen (öffentlich, privat, hybrid), Konsensalgorithmen (z.\\u202fB. Proof of \\nWork, PBFT, Proof of Vote) sowie kryptografische Verfahren (z.\\u202fB. Zero -Knowledge -Proofs, Blind \\nSignatures) vorgestellt (Vladucu et al., 2023, S. 23295, 23296) . Es werden reale Anwendungen \\naus Ländern wie Estland, Australien, Russland und der Schweiz analysiert und kommerzielle \\nSysteme wie Voatz, Polyas oder Follow My Vote diskutiert  (Vladucu et al., 2023, S. 23303) . Die 4 \\n Autoren identifizieren offene Forschungsfelder, zum Beispiel hinsichtlich Skalierbarkeit,',\n",
       " 'Angriffserkennung (z.\\u202fB.  DDoS) und Manipulationssicherheit aufweist (Rathee et al., 2021, S. \\n34175) . \\nVladucu et al. (2023, S. 23294)  bieten einen Überblick über mehr als 60 Blockchain -basierte E -\\nVoting -Systeme. Die Studie beleuchtet die Potenziale von Blockchain zur Erhöhung von \\nTransparenz, Sicherheit und Unveränderbarkeit elektronischer Wahlprozesse. Dabei werden \\nverschiedene Blockch ain-Typen (öffentlich, privat, hybrid), Konsensalgorithmen (z.\\u202fB. Proof of \\nWork, PBFT, Proof of Vote) sowie kryptografische Verfahren (z.\\u202fB. Zero -Knowledge -Proofs, Blind \\nSignatures) vorgestellt (Vladucu et al., 2023, S. 23295, 23296) . Es werden reale Anwendungen \\naus Ländern wie Estland, Australien, Russland und der Schweiz analysiert und kommerzielle \\nSysteme wie Voatz, Polyas oder Follow My Vote diskutiert  (Vladucu et al., 2023, S. 23303) . Die 4 \\n Autoren identifizieren offene Forschungsfelder, zum Beispiel hinsichtlich Skalierbarkeit, \\nBenutzerfreundlichkeit, Interoperabilität und Vertrauensbildung, besonders für Nutzergruppen \\nohne technische Affinität (Vladucu et al., 2023, S. 23299) .  \\nAlshehri et al. (2023, S. 1)  beschreiben ein Blockchain -basiertes E -Voting -System, das Score -\\nVoting ermöglicht und dabei Privatsphäre sowie Sicherheit gewährleistet. Das System nutzt Zero -\\nKnowledge -Beweise, um sicherzustellen, dass die abgegebenen Stimmen innerhalb eines \\ndefinierten B ereichs liegen, ohne die konkreten Werte preiszugeben (Alshehri et al., 2023, S. 2) . \\nDurch die Dezentralität der Blockchain wird Manipulation verhindert und Transparenz gewahrt. \\nExperimentelle Ergebnisse zeigen, dass das System bis zu 10.000 Transaktionen effizient \\nverarbeiten kann, was es für kleine bis mittelgrosse Wahlen geeignet mach t (Alshehri et al., 2023, \\nS. 14) . \\nDie Hauptvorteile von Blockchain -basierten E -Voting -Systemen sind Sicherheit, Transparenz und \\nEffizienz durch Unveränderbarkeit, Dezentralisierung und Smart Contracts (Hajian \\nBerenjestanaki et al., 2024, S. 1)  sowie eine potentiell höhere Wahlbeteiligung (Mannonov & \\nMyeong, 2024, S. 14) . Smart Contracts sind digitale Verträge, die auf der Blockchain gespeichert \\nund automatisch ausgeführt werden, sobald die im Code festgelegten Bedingungen erfüllt sind. \\nSie fungieren als Backend für dezentrale Anwendungen und ermöglichen den sicheren Austau sch \\ndigitaler Vermögenswerte ohne Zwischeninstanzen. Trotz ihres Potenzials steckt die Technologie \\nnoch in den Anfängen und wird derzeit vor allem für Kryptowährungstransaktionen und \\nEigentumsnachweise genutzt  (Tanwar et al., 2024, S. 1457) . \\nEs bestehen Herausforderungen wie Skalierbarkeitsprobleme bei grossen Wahlen und die \\nschwierige Balance zwischen Anonymität und Nachvollziehbarkeit. Lösungsansätze umfassen \\nZero-Knowledge -Proofs und homomorphe Verschlüsselung, um Datenschutz und \\nVerifizierba rkeit zu gewährleisten  (Hajian Berenjestanaki et al., 2024, S. 26) . Während die \\nTechnologie grosses Potenzial zeigt, sind weitere Forschung und praktische Tests notwendig, um \\nsie für den breiten Einsatz in demokratischen Wahlen zu optimieren  (Hajian Berenjestanaki et al., \\n2024, S. 31) . Die Akzeptanz solcher Systeme hängt massgeblich von der wahrgenommenen \\nBenutzerfreundlichkeit und dem Nutzen ab, wobei Vertrauen in die Technologie eine zentrale \\nRolle spielt  (Mannonov & Myeong, 2024, S. 1) . Die Integration von künstlicher Intelligenz könnte \\nzusätzlich die Authentifizierung von Wählern verbessern und Manipulationsversuche erkennen \\n(Mannonov & Myeong, 2024, S. 14) . Dennoch bleiben Herausforderungen wie die digitale \\nInfrastruktur und rechtliche Rahmenbedingungen entscheidende Faktoren für eine erfolgreiche \\nImplementierung  (Mannonov & Myeong, 2024, S. 6) . \\nTanwar et al. (2024, S. 1449)  präsentieren ebenfalls eine Blockchain -basierte E -Voting -Lösung, \\ndie auf Ethereum -Smart Contracts und einer dezentralen Anwendung (DApp) basiert. Sie ist in \\nder Lage, Doppelabstimmungen zu verhindern und Echtzeit -Ergebnisse überprüfbar zu machen, \\nwährend die Identität der Wählenden geschützt bleibt  (Tanwar et al., 2024, S. 1461) . Die \\nImplementierung umfasst eine Frontend -Oberfläche, die über MetaMask mit der Blockchain \\ninteragiert, sowie Tests mit Truffle und Ganache zur Validierung der Funktionalität  (Tanwar et al., 5 \\n 2024, S. 1463) . Trotz des Potenzials identifiziert die Studie Herausforderungen wie Skalierbarkeit, \\nEnergieverbrauch und die Komplexität von Smart Contracts, die weitere Forschung erfordern \\n(Tanwar et al., 2024, S. 1469 –1471) .  \\nDas von Jayakumari et al. (2024, S. 103)  vorgestellte Cloud -basierte E -Voting -System, welches \\nhybride Blockchain -Technologie nutzt, kombiniert zeitstempelbasierte Authentifizierung mit \\ndigitalen Signaturen für die Wählerregistrierung, Smart Contracts zur Vermeidung von \\nManipulationen und den PBF T-Konsensmechanismus für eine sichere Stimmauszählung. \\nExperimentelle Ergebnisse zeigen eine signifikante Reduktion von \\nAuthentifizierungsverzögerungen (um 50\\u202f%) und Stimmmanipulationen (um 55\\u202f%) im Vergleich \\nzu bestehenden Systemen  (Jayakumari et al., 2024, S. 106) . Die Autoren betonen das Potenzial \\nder Technologie für demokratische Wahlen, identifizieren jedoch Handlungsbedarf hinsichtlich \\nSkepsis der Bevölkerung, gesetzlichen Rahmenbedingungen und Benutzerfreundlichkeit  \\n(Jayakumari et al., 2024, S. 108) . \\n3. Forschungsfrage  \\nAusgehend von der dargestellten Problemstellung stellt sich die Frage, welche politischen, \\ninstitutionellen und technischen Hürden einer flächendeckenden Einführung von E -Voting in der \\nSchweiz derzeit noch im Weg stehen. Ziel der Arbeit ist es, die zentral en Erfolgs - und \\nMisserfolgsfaktoren anhand von Rückmeldu ngen von  wahlbere chtigten Personen  zu analysieren \\nund daraus Rückschlüsse für zukünftige Entwicklungen zu ziehen.  \\nDie Forschungsfrage lautet  «Welche Hürden stehen der dauerhaften und breiten Einführung von \\nE-Voting in der Schweiz aktuell noch im Weg? ». \\nSie orientier t sich an der Zielsetzung, bestehende Barrieren zu identifizieren und vor dem \\nHintergrund internationaler Entwicklungen und technischer Innovationen einzuordnen. Zugleich \\nwird angestrebt, praxisrelevante Handlungsempfehlungen für die Weiterentwicklung \\nelektronischer Wahlsysteme in der Schweiz abzuleiten . \\n4. Forschungsdesign und Methodisches Vorgehen  \\nZur Beantwortung der Forschungsfrage wird ein mixed -method -Ansatz gewählt, der deduktive \\nund induktive Elemente kombiniert. Ausgangspunkt ist ein deduktives Vorgehen, das auf \\ntheoretischen Annahmen und bestehenden Studien zur E -Voting -Akzeptanz basiert (z. \\u202fB. \\nTechnology Acceptance Model, Datenschutztheorien, institutionelle Ansätze). Diese werden in \\neinem zweiten Schritt durch induktiv erhobene empirische Daten ergänzt, um neue  Erkenntnisse \\nüber bestehende Hürden und Akzeptanzbarrieren zu gewinnen.  Kern des empirischen Teils ist \\neine standardisierte Online -Umfrage, die sich an Schweizer Bürger  richtet. Ziel ist es, konkrete \\nBedenken, Erwartungen und Wahrnehmungen im Zusammenhang mit E -Voting zu erheben. Der \\nFragebogen enthält sowohl geschlossene (Likert -Skalen) als auch offene Fragen und orientiert 6 \\n sich an den zentralen Themen Sicherheit, Datenschutz, Vertrauen, Bedienbarkeit und politisches \\nInteresse.  \\nErgänzend wird erhoben, welche technischen oder politischen Rahmenbedingungen aus Sicht \\nder Befragten notwendig wären, um E -Voting zu unterstützen.  Die Umfrage wird über Online -\\nKanäle, Hochschulnetzwerke und soziale Medien verbreitet, um eine möglichst heterogene \\nTeilnehmergruppe zu erreichen.  Die geschlossenen Fragen werden quantitativ -statistisch \\nausgewertet , während offene Antworten einer qualitativen Inhaltsanalyse unterzogen werden. Die \\nErgebnisse sollen bestehende Forschung ergänzen, neue Hypothesen generieren und praktische \\nEmpfehlungen für die Weiterentwicklung von E -Voting -Systemen in der Schweiz ableiten.  \\n  7 \\n Literaturverzeichnis  \\nAgate, V., De Paola, A., Ferraro, P., Lo Re, G., & Morana, M. (2021). SecureBallot: A secure \\nopen source e -Voting system. Journal of Network and Computer Applications , 191, \\n103165. https://doi.org/10.1016/j.jnca.2021.103165  \\nAlshehri, A., Baza, M., Srivastava, G., Rajeh, W., Alrowaily, M., & Almusali, M. (2023). Privacy -\\nPreserving E -Voting System Supporting Score Voting Using Blockchain. Applied \\nSciences , 13(2), Article 2. https://doi.org/10.3390/app13021096  \\nHajian Berenjestanaki, M., Barzegar, H. R., El Ioini, N., & Pahl, C. (2024). Blockchain -Based E -\\nVoting Systems: A Technology Review. Electronics , 13(1), Article 1. \\nhttps://doi.org/10.3390/electronics13010017  \\nJayakumari, B., Sheeba, S. L., Eapen, M., Anbarasi, J., Ravi, V., Suganya, A., & Jawahar, M. \\n(2024). E -voting system using cloud -based hybrid blockchain technology. Journal of \\nSafety Science and Resilience , 5(1), 102 –109. \\nhttps://doi.org/10.1016/j.jnlssr.2024.01.002  \\nMannonov, K. M. ugli, & Myeong, S. (2024). Citizens’ Perception of Blockchain -Based E -Voting \\nSystems: Focusing on TAM. Sustainability , 16(11), Article 11. \\nhttps://doi.org/10.3390/su16114387  \\nPetitpas, A., Jaquet, J. M., & Sciarini, P. (2021). Does E -Voting matter for turnout, and to whom? \\nElectoral Studies , 71, 102245. https://doi.org/10.1016/j.electstud.2020.102245  \\nPleger, L. E., & Mertes, A. (2018). Use and assessment of e -voting systems: Findings from an \\nonline -survey among Swiss nationals living abroad. In Swiss Yearbook of Administrative \\nScience  (Bd. 9). Schweizerische Gesellschaft für Verwaltungswissenschaften. \\nhttps://doi.org/10.5334/ssas.1  \\nRathee, G., Iqbal, R., Waqar, O., & Bashir, A. K. (2021). On the Design and Implementation of a \\nBlockchain Enabled E -Voting Application Within IoT -Oriented Smart Cities. IEEE \\nAccess , 9, 34165 –34176. IEEE Access. https://doi.org/10.1109/ACCESS.2021.3061411  \\nReiners, M. (2020). Vote Électronique in Switzerland: Comparison of Relevant Pilot Projects.',\n",
       " 'Systems: Focusing on TAM. Sustainability , 16(11), Article 11. \\nhttps://doi.org/10.3390/su16114387  \\nPetitpas, A., Jaquet, J. M., & Sciarini, P. (2021). Does E -Voting matter for turnout, and to whom? \\nElectoral Studies , 71, 102245. https://doi.org/10.1016/j.electstud.2020.102245  \\nPleger, L. E., & Mertes, A. (2018). Use and assessment of e -voting systems: Findings from an \\nonline -survey among Swiss nationals living abroad. In Swiss Yearbook of Administrative \\nScience  (Bd. 9). Schweizerische Gesellschaft für Verwaltungswissenschaften. \\nhttps://doi.org/10.5334/ssas.1  \\nRathee, G., Iqbal, R., Waqar, O., & Bashir, A. K. (2021). On the Design and Implementation of a \\nBlockchain Enabled E -Voting Application Within IoT -Oriented Smart Cities. IEEE \\nAccess , 9, 34165 –34176. IEEE Access. https://doi.org/10.1109/ACCESS.2021.3061411  \\nReiners, M. (2020). Vote Électronique in Switzerland: Comparison of Relevant Pilot Projects. \\nJournal of Comparative Politics , 13(1), 58 –75. 8 \\n Sheela, A. C. S., & Franklin, Ramya. G. (2021). E -Voting System Using Homomorphic \\nEncryption Technique. Journal of Physics: Conference Series , 1770 (1), 012011. \\nhttps://doi.org/10.1088/1742 -6596/1770/1/012011  \\nSoares, J. M., & Vasconcelos, R. O. (2023). A distributed architecture proposal for e -voting. \\nTexto Livre , 16, e42204. https://doi.org/10.1590/1983 -3652.2023.42204  \\nTanwar, S., Gupta, N., Kumar, P., & Hu, Y. -C. (2024). Implementation of blockchain -based e -\\nvoting system. Multimedia Tools and Applications , 83(1), 1449 –1480. \\nhttps://doi.org/10.1007/s11042 -023-15401 -1 \\nVladucu, M. -V., Dong, Z., Medina, J., & Rojas -Cessa, R. (2023). E -Voting Meets Blockchain: A \\nSurvey. IEEE Access , 11, 23293 –23308. IEEE Access. \\nhttps://doi.org/10.1109/ACCESS.2023.3253682  \\nZhang, X., Zhang, B., Kiayias, A., Zacharias, T., & Ren, K. (2022). An Efficient E2E Crowd \\nVerifiable E -Voting System. IEEE Transactions on Dependable and Secure Computing , \\n19(6), 3607 –3620. IEEE Transactions on Dependable and Secure Computing. \\nhttps://doi.org/10.1109/TDSC.2021.3103336']"
      ]
     },
     "execution_count": 4,
     "metadata": {},
     "output_type": "execute_result"
    }
   ],
   "source": [
    "# Initialize a text splitter with specified chunk size and overlap\n",
    "splitter = RecursiveCharacterTextSplitter(chunk_size=10000, chunk_overlap=1000)\n",
    "# Split the extracted text into manageable chunks\n",
    "chunks = splitter.split_text(text)\n",
    "\n",
    "# Display the resulting chunks\n",
    "chunks"
   ]
  },
  {
   "cell_type": "markdown",
   "metadata": {},
   "source": [
    "<p style=\"color:green; font-size: 16px;\">\n",
    "<b>Exercise: Experimenting with Text Chunking Parameters</b><br>\n",
    "<b>Goal:</b> Develop an understanding of how chunking parameters affect text segmentation and its impact on downstream tasks.<br><br>\n",
    "\n",
    "<b>Instructions:</b><br>\n",
    "<ul style=\"color:green;\">\n",
    "<li>After completing <b>Step 4: Splitting Text into Manageable Chunks (Cell 4)</b>, adjust the <code>chunk_size</code> and <code>chunk_overlap</code> parameters.</li>\n",
    "<li>Observe how these adjustments influence the number and size of the resulting chunks.</li>\n",
    "</ul>\n",
    "\n",
    "<b>Purpose:</b> This exercise helps you build intuition about text chunking processes, enabling you to see how parameter choices can affect tasks that depend on text segmentation.\n",
    "</p>"
   ]
  },
  {
   "cell_type": "code",
   "execution_count": 5,
   "metadata": {},
   "outputs": [
    {
     "data": {
      "text/plain": [
       "['Zürcher Hochschule für Angewandte Wissenschaften ZHAW  \\nSchool of Management and Law  \\n \\n \\nDisposition: E-Voting in der Schweiz: welche \\nHürden stehen der E inführung noch im Weg?  \\n \\n \\n \\n \\nDozent: Philipp Stalder  \\nDepartment: School of Management and Law  \\nModul: w.BA.XX.3WM -WIN.XX  Wissenschaftliche  Method en \\nSemester: 6. Semester  \\n \\n \\n \\n \\nAbgabedatum: 13.04.2025 \\n  1 \\n Abstract \\nE-Voting gilt als vielversprechende Möglichkeit, demokratische Prozesse in der Schweiz zu \\nmodernisieren und insbesondere Auslandschweizer n sowie mobilitätseingeschränkten Personen \\ndie Stimmabgabe zu erleichtern. Trotz langjähriger Pilotprojekte bestehen weiterhin erhebliche \\nHürden, etwa im Bereich der technischen Sicherheit, des Datenschutzes und der politischen \\nUmsetzung. Ziel dieser Arbeit ist es, zentrale Barrieren bei der Einführung von E -Voting zu \\nidentifizieren und zu analysieren. Dafür wird ein ded uktiv-induktiver Forschungsansatz gewählt,',\n",
       " 'identifizieren und zu analysieren. Dafür wird ein ded uktiv-induktiver Forschungsansatz gewählt, \\nder theoretische Modelle mit empirischer Datenerhebung kombiniert. Im Zentrum steht eine \\nstandardisierte Online -Umfrage, mit der Akzeptanz, Bedenken und Erwartungen potenzieller \\nNutzer n in der Schweiz erhoben werden. Die Ergebnisse werden quantitativ und qualitativ \\nausgewertet, um praxisnahe Empfehlungen für die Weiterentwicklung elektronischer \\nWahlsysteme abzuleiten. Die Arbeit leistet damit einen Beitrag zur wissenschaftlichen und \\npolitischen Diskussion rund um die Zukunft des E -Voting in der Schweiz.  \\nStichworte  E-Voting · Schweiz · elektronische  Wahlen · E-Government · digitale Demokratie  \\nHürden  · Blockchain  · Sicher heit · Datenschutz  \\n1. Problemstellung und Relevanz des Themas  \\nDie Einführung von E -Voting in der Schweiz steht trotz langjähriger Pilotversuche und \\ntechnologischer Entwicklungen vor erheblichen Herausforderungen. So besteht zwar eine hohe',\n",
       " 'technologischer Entwicklungen vor erheblichen Herausforderungen. So besteht zwar eine hohe \\ngrundsätzliche Akzeptanz für elektronische Wahlsysteme  (Pleger & Mertes, 2018, S. 5) , doch \\ngleichzeitig bleiben substanzielle Bedenken hinsichtlich Sicherheit, Datenschutz und \\nTransparenz bestehen  (Agate et al., 2021, S. 2; Sheela & Franklin, 2021, S. 6) . Sicherheitsrisiken \\nbetreffen insbesondere Manipulationsmöglichkeiten  und die Gewährleistung des \\nWahlgeheimnisses  (Rathee et al., 2021, S. 34175; Vladucu et al., 2023, S. 23294) .  \\nIn einer zunehmend mobilen und digitalisierten Gesellschaft wächst der Anspruch, politische \\nRechte flexibel, orts - und zeitunabhängig auszuüben. E -Voting adressiert dieses Bedürfnis: Es \\nerleichtert insbesondere Auslandschweizer n, älteren Menschen oder Personen mit \\neingeschränkter Mobilität die Teilnahme an Wahlen und Abstimmungen  und unterstützt somit die \\nE-Government -Strategie des Bundes (Reiners, 2020, S. 59) . Trotz  des technologischen',\n",
       " 'E-Government -Strategie des Bundes (Reiners, 2020, S. 59) . Trotz  des technologischen \\nPotenzials  von Blockchain -basierten Systemen  besteh t weiterhin erheblicher Forschungsbedarf, \\ninsbesondere hinsichtlich Skalierbarkeit und Energieeffizienz  (Tanwar et al., 2024, S. 1470 –\\n1471) . \\n2. Stand der Forschung  \\nIm Folgenden werden zentrale Forschungsergebnisse dargestellt, die als Grundlage für die \\nempirische Untersuchung dieser Arbeit dienen. Dabei wird insbesondere auf Beiträge \\neingegangen, die sich mit der Wahrnehmung von Nutzern , innovativen Systemarchitekturen \\nsowie der Situation in der Schweiz befassen.  2 \\n 2.1. Nutzen und Akze ptanz  \\nPleger und Mertes (2018, S. 5)  untersuchen die Nutzung und Bewertung von E -Voting -Systemen \\ndurch Schweizer Staatsangehörige im Ausland auf Basis einer Online -Umfrage mit 596 \\nTeilnehmenden. Die Ergebnisse zeigen eine hohe Akzeptanz: 97\\u202f% der Befragten g eben an, E -',\n",
       " 'Teilnehmenden. Die Ergebnisse zeigen eine hohe Akzeptanz: 97\\u202f% der Befragten g eben an, E -\\nVoting nutzen zu wollen. Als zentrale Einflussfaktoren identifizierten die Autoren die \\nwahrgenommene Nützlichkeit und Benutzerfreundlichkeit des Systems sowie das Vertrauen in \\nstaatliche Institutionen und die Sicherheit der technischen Prozesse  (Pleger & Mertes, 2018, S. \\n7, 8). Die Studie stützt sich auf das Technology Acceptance Model (TAM) und erweitert dieses um \\ndie Dimension „Vertrauen“. Trotz der insgesamt positiven Bewertungen w ird in offenen Antworten \\ndeutlich, dass Bedenken hinsichtlich Datenschutz und Transparenz weiterhin bestehen (Pleger & \\nMertes, 2018, S. 7) . \\nPetitpas et al. (2021, S. 1)  untersuchen auf Basis individueller Stimmdaten aus dem Kanton Genf \\nden Einfluss von E -Voting auf die Wahlbeteiligung. Während aggregierte Studien bisher kaum \\nEffekte nachweisen konnten, zeigen die Autoren, dass E -Voting insbesondere bei Abstinenten',\n",
       " 'Effekte nachweisen konnten, zeigen die Autoren, dass E -Voting insbesondere bei Abstinenten \\nund Ge legenheitswählern die Teilnahme erhöht (Petitpas et al., 2021, S. 9, 10) . Dabei profitiert \\nvor allem die ältere Bevölkerung, während junge und Frauen vergleichsweise weniger mobilisiert \\nwerden. Insgesamt kommt die Studie zu m Schluss, dass E -Voting die politische Teilnahme unter \\nbestimmten Bedingungen fördern kann, ohne jedoch bestehende Ungleichheiten vollständig zu \\nüberwinden (Petitpas et al., 2021, S. 9) . Daten aus der Schweiz zeigen , dass zentrale politische \\nStrukturen, gesetzliche Anpassungen und konsensorientierte Zusammenarbeit wesentliche \\nErfolgsfaktoren für die Einführung und Umsetzung von E -Voting darstellen  (Reiners, 2020, S. 63) . \\nGleichzeitig verdeutlicht der Fall Zürich, wie politische Uneinigkeit, technische Unsicherheiten und \\ninstitutionelle Fragmentierung die Einführung von E -Voting -Systemen  hemmen können (Reiners, \\n2020, S. 68, 69) .',\n",
       " '2020, S. 68, 69) . \\n2.2. Technologische Konzepte  \\nNeben institutionellen Faktoren werden in der aktuellen Forschung vermehrt technologische \\nLösungen zur Verbesserung der Sicherheit und Transparenz diskutiert. Biometrie -basierte E -\\nVoting -Systeme sollen Manipulationen wie Mehrfachstimmenabgabe oder Wahlfäls chung \\nverhindern, etwa durch die Überprüfung des Fingerabdrucks  (Sheela & Franklin, 2021, S. 2) . \\nSolche Systeme erfüllen wesentliche Sicherheitsanforderungen wie Anonymität, Nicht -\\nNachvollziehbarkeit und öffentliche Verifizierbarkeit und stellen damit eine praktikable Alternative \\nzu herkömmlichen E -Voting -Systemen dar  (Sheela & Franklin, 2021, S. 6) . SecureBallot ist ein \\nquelloffenes, kryptografisch abgesichertes E -Voting -System, das auf die strikte Trennung von \\nWähleridentifikation und Stimmabgabe setzt. Ziel ist es, die Privatsphäre der Wählenden zu \\nschützen und gleichzeitig zentrale Sicherheitsanfor derungen wie Anonymität, Unveränderbarkeit',\n",
       " 'schützen und gleichzeitig zentrale Sicherheitsanfor derungen wie Anonymität, Unveränderbarkeit \\nund Authentizität zu gewährleisten  (Agate et al., 2021, S. 2) . \\nDie Stimmabgabe erfolgt an physisch betreuten Wahlstationen mithilfe temporärer, anonymer \\nIdentitäten (Tokens), wodurch eine Rückverfolgbarkeit ausgeschlossen wird. Die Offenlegung des 3 \\n Quellcodes stärkt die Transparenz und Nachvollziehbarkeit und ermöglicht eine flexible \\nAnpassung an unterschiedliche Wahlszenarien  (Agate et al., 2021, S. 2) . \\nDas Ziel des E -Voting -Systems von Zhang et al.  (2022, S. 3609)  ist es, Verifizierbarkeit mit starker \\nPrivatsphäre zu kombinieren, ohne die Systemeffizienz zu beeinträchtigen. Besonderes \\nAugenmerk liegt auf dem Schutz vor Subversion durch die Wahlleitung sowie der Crowd -\\nVerifizierbarkeit durch Wählende selbst. Im Vergl eich zu anderen Systemen wie Helios bietet das \\nvorgeschlagene System höhere Sicherheit bei vergleichbarer Performance und ist für reale',\n",
       " 'vorgeschlagene System höhere Sicherheit bei vergleichbarer Performance und ist für reale \\nWahlen praktikabel einsetzbar (Zhang et al., 2022, S. 3618) . \\nDezentrale E -Voting -Architekturen sollen darüber hinaus die Sicherheit und Transparenz durch \\nverteilte Systeme gewährleisten. Der Ansatz von Soares und Vasconcelo (2023, S. 3)  kombiniert \\nKonsensalgorithmen mit zeitbasierter Verschlüsselung, um Wahlmanipulationen zu verhindern \\nund das Wahlgeheimnis zu wahren, während die Abhängigkeit von zentralen Autoritäten minimiert \\nwird. Die Autoren identifizieren praktische Herausforderunge n wie mögliche Angriffe auf die \\nZertifizierungsstelle und die Komplexität der Konsensfindung in Zweiparteiensystemen  (2023, S. \\n8). Obwohl das Konzept vielversprechend ist, betonen sie den Bedarf weiterer Forschung, \\ninsbesondere zur praktischen Umsetzung der Verschlüsselungstechniken und zur Verbesserung \\nder Wähleranonymität, bevor das System in der Praxis eingesetzt werden kann  (Soares &',\n",
       " 'der Wähleranonymität, bevor das System in der Praxis eingesetzt werden kann  (Soares & \\nVasconcelos, 2023, S. 13) . \\n2.3. Blockchain  \\nEin weiterer Forschungsschwerpunkt liegt auf dem Einsatz von Blockchain -Technologie. Das von \\nRathee et al.  (2021, S. 34165)  entwickelte Blockchain -basierte E -Voting -System ist in die \\nInfrastruktur von IoT -orientierten Smart Cities eingebettet. Ihr Ziel ist es, Sicherheitsrisiken bei \\nelektronischen Wahlen zu minimieren, insbesondere durch die Kombination von Blockchain -\\nTechnolo gie mit einem Vertrauensbewertungsmechanismus für IoT -Geräte (Rathee et al., 2021, \\nS. 34168) . Das System identifiziert vertrauenswürdige Geräte durch ein sozial optimiertes \\nBewertungsverfahren und nutzt Blockchain zur dezentralen, transparenten Speicherung und \\nNachverfolgung von Wahlvorgängen. Die Autoren zeigen, dass ihr Ansatz gegenüber \\nbestehe nden Verfahren verbesserte Ergebnisse hinsichtlich Authentifizierungsverzögerung,',\n",
       " 'bestehe nden Verfahren verbesserte Ergebnisse hinsichtlich Authentifizierungsverzögerung, \\nAngriffserkennung (z.\\u202fB.  DDoS) und Manipulationssicherheit aufweist (Rathee et al., 2021, S. \\n34175) . \\nVladucu et al. (2023, S. 23294)  bieten einen Überblick über mehr als 60 Blockchain -basierte E -\\nVoting -Systeme. Die Studie beleuchtet die Potenziale von Blockchain zur Erhöhung von \\nTransparenz, Sicherheit und Unveränderbarkeit elektronischer Wahlprozesse. Dabei werden \\nverschiedene Blockch ain-Typen (öffentlich, privat, hybrid), Konsensalgorithmen (z.\\u202fB. Proof of \\nWork, PBFT, Proof of Vote) sowie kryptografische Verfahren (z.\\u202fB. Zero -Knowledge -Proofs, Blind \\nSignatures) vorgestellt (Vladucu et al., 2023, S. 23295, 23296) . Es werden reale Anwendungen \\naus Ländern wie Estland, Australien, Russland und der Schweiz analysiert und kommerzielle \\nSysteme wie Voatz, Polyas oder Follow My Vote diskutiert  (Vladucu et al., 2023, S. 23303) . Die 4',\n",
       " 'Systeme wie Voatz, Polyas oder Follow My Vote diskutiert  (Vladucu et al., 2023, S. 23303) . Die 4 \\n Autoren identifizieren offene Forschungsfelder, zum Beispiel hinsichtlich Skalierbarkeit, \\nBenutzerfreundlichkeit, Interoperabilität und Vertrauensbildung, besonders für Nutzergruppen \\nohne technische Affinität (Vladucu et al., 2023, S. 23299) .  \\nAlshehri et al. (2023, S. 1)  beschreiben ein Blockchain -basiertes E -Voting -System, das Score -\\nVoting ermöglicht und dabei Privatsphäre sowie Sicherheit gewährleistet. Das System nutzt Zero -\\nKnowledge -Beweise, um sicherzustellen, dass die abgegebenen Stimmen innerhalb eines \\ndefinierten B ereichs liegen, ohne die konkreten Werte preiszugeben (Alshehri et al., 2023, S. 2) . \\nDurch die Dezentralität der Blockchain wird Manipulation verhindert und Transparenz gewahrt. \\nExperimentelle Ergebnisse zeigen, dass das System bis zu 10.000 Transaktionen effizient',\n",
       " 'Experimentelle Ergebnisse zeigen, dass das System bis zu 10.000 Transaktionen effizient \\nverarbeiten kann, was es für kleine bis mittelgrosse Wahlen geeignet mach t (Alshehri et al., 2023, \\nS. 14) . \\nDie Hauptvorteile von Blockchain -basierten E -Voting -Systemen sind Sicherheit, Transparenz und \\nEffizienz durch Unveränderbarkeit, Dezentralisierung und Smart Contracts (Hajian \\nBerenjestanaki et al., 2024, S. 1)  sowie eine potentiell höhere Wahlbeteiligung (Mannonov & \\nMyeong, 2024, S. 14) . Smart Contracts sind digitale Verträge, die auf der Blockchain gespeichert \\nund automatisch ausgeführt werden, sobald die im Code festgelegten Bedingungen erfüllt sind. \\nSie fungieren als Backend für dezentrale Anwendungen und ermöglichen den sicheren Austau sch \\ndigitaler Vermögenswerte ohne Zwischeninstanzen. Trotz ihres Potenzials steckt die Technologie \\nnoch in den Anfängen und wird derzeit vor allem für Kryptowährungstransaktionen und',\n",
       " 'noch in den Anfängen und wird derzeit vor allem für Kryptowährungstransaktionen und \\nEigentumsnachweise genutzt  (Tanwar et al., 2024, S. 1457) . \\nEs bestehen Herausforderungen wie Skalierbarkeitsprobleme bei grossen Wahlen und die \\nschwierige Balance zwischen Anonymität und Nachvollziehbarkeit. Lösungsansätze umfassen \\nZero-Knowledge -Proofs und homomorphe Verschlüsselung, um Datenschutz und \\nVerifizierba rkeit zu gewährleisten  (Hajian Berenjestanaki et al., 2024, S. 26) . Während die \\nTechnologie grosses Potenzial zeigt, sind weitere Forschung und praktische Tests notwendig, um \\nsie für den breiten Einsatz in demokratischen Wahlen zu optimieren  (Hajian Berenjestanaki et al., \\n2024, S. 31) . Die Akzeptanz solcher Systeme hängt massgeblich von der wahrgenommenen \\nBenutzerfreundlichkeit und dem Nutzen ab, wobei Vertrauen in die Technologie eine zentrale \\nRolle spielt  (Mannonov & Myeong, 2024, S. 1) . Die Integration von künstlicher Intelligenz könnte',\n",
       " 'Rolle spielt  (Mannonov & Myeong, 2024, S. 1) . Die Integration von künstlicher Intelligenz könnte \\nzusätzlich die Authentifizierung von Wählern verbessern und Manipulationsversuche erkennen \\n(Mannonov & Myeong, 2024, S. 14) . Dennoch bleiben Herausforderungen wie die digitale \\nInfrastruktur und rechtliche Rahmenbedingungen entscheidende Faktoren für eine erfolgreiche \\nImplementierung  (Mannonov & Myeong, 2024, S. 6) . \\nTanwar et al. (2024, S. 1449)  präsentieren ebenfalls eine Blockchain -basierte E -Voting -Lösung, \\ndie auf Ethereum -Smart Contracts und einer dezentralen Anwendung (DApp) basiert. Sie ist in \\nder Lage, Doppelabstimmungen zu verhindern und Echtzeit -Ergebnisse überprüfbar zu machen, \\nwährend die Identität der Wählenden geschützt bleibt  (Tanwar et al., 2024, S. 1461) . Die \\nImplementierung umfasst eine Frontend -Oberfläche, die über MetaMask mit der Blockchain \\ninteragiert, sowie Tests mit Truffle und Ganache zur Validierung der Funktionalität  (Tanwar et al., 5',\n",
       " '2024, S. 1463) . Trotz des Potenzials identifiziert die Studie Herausforderungen wie Skalierbarkeit, \\nEnergieverbrauch und die Komplexität von Smart Contracts, die weitere Forschung erfordern \\n(Tanwar et al., 2024, S. 1469 –1471) .  \\nDas von Jayakumari et al. (2024, S. 103)  vorgestellte Cloud -basierte E -Voting -System, welches \\nhybride Blockchain -Technologie nutzt, kombiniert zeitstempelbasierte Authentifizierung mit \\ndigitalen Signaturen für die Wählerregistrierung, Smart Contracts zur Vermeidung von \\nManipulationen und den PBF T-Konsensmechanismus für eine sichere Stimmauszählung. \\nExperimentelle Ergebnisse zeigen eine signifikante Reduktion von \\nAuthentifizierungsverzögerungen (um 50\\u202f%) und Stimmmanipulationen (um 55\\u202f%) im Vergleich \\nzu bestehenden Systemen  (Jayakumari et al., 2024, S. 106) . Die Autoren betonen das Potenzial \\nder Technologie für demokratische Wahlen, identifizieren jedoch Handlungsbedarf hinsichtlich',\n",
       " 'der Technologie für demokratische Wahlen, identifizieren jedoch Handlungsbedarf hinsichtlich \\nSkepsis der Bevölkerung, gesetzlichen Rahmenbedingungen und Benutzerfreundlichkeit  \\n(Jayakumari et al., 2024, S. 108) . \\n3. Forschungsfrage  \\nAusgehend von der dargestellten Problemstellung stellt sich die Frage, welche politischen, \\ninstitutionellen und technischen Hürden einer flächendeckenden Einführung von E -Voting in der \\nSchweiz derzeit noch im Weg stehen. Ziel der Arbeit ist es, die zentral en Erfolgs - und \\nMisserfolgsfaktoren anhand von Rückmeldu ngen von  wahlbere chtigten Personen  zu analysieren \\nund daraus Rückschlüsse für zukünftige Entwicklungen zu ziehen.  \\nDie Forschungsfrage lautet  «Welche Hürden stehen der dauerhaften und breiten Einführung von \\nE-Voting in der Schweiz aktuell noch im Weg? ». \\nSie orientier t sich an der Zielsetzung, bestehende Barrieren zu identifizieren und vor dem',\n",
       " 'Sie orientier t sich an der Zielsetzung, bestehende Barrieren zu identifizieren und vor dem \\nHintergrund internationaler Entwicklungen und technischer Innovationen einzuordnen. Zugleich \\nwird angestrebt, praxisrelevante Handlungsempfehlungen für die Weiterentwicklung \\nelektronischer Wahlsysteme in der Schweiz abzuleiten . \\n4. Forschungsdesign und Methodisches Vorgehen  \\nZur Beantwortung der Forschungsfrage wird ein mixed -method -Ansatz gewählt, der deduktive \\nund induktive Elemente kombiniert. Ausgangspunkt ist ein deduktives Vorgehen, das auf \\ntheoretischen Annahmen und bestehenden Studien zur E -Voting -Akzeptanz basiert (z. \\u202fB. \\nTechnology Acceptance Model, Datenschutztheorien, institutionelle Ansätze). Diese werden in \\neinem zweiten Schritt durch induktiv erhobene empirische Daten ergänzt, um neue  Erkenntnisse \\nüber bestehende Hürden und Akzeptanzbarrieren zu gewinnen.  Kern des empirischen Teils ist',\n",
       " 'über bestehende Hürden und Akzeptanzbarrieren zu gewinnen.  Kern des empirischen Teils ist \\neine standardisierte Online -Umfrage, die sich an Schweizer Bürger  richtet. Ziel ist es, konkrete \\nBedenken, Erwartungen und Wahrnehmungen im Zusammenhang mit E -Voting zu erheben. Der \\nFragebogen enthält sowohl geschlossene (Likert -Skalen) als auch offene Fragen und orientiert 6 \\n sich an den zentralen Themen Sicherheit, Datenschutz, Vertrauen, Bedienbarkeit und politisches \\nInteresse.  \\nErgänzend wird erhoben, welche technischen oder politischen Rahmenbedingungen aus Sicht \\nder Befragten notwendig wären, um E -Voting zu unterstützen.  Die Umfrage wird über Online -\\nKanäle, Hochschulnetzwerke und soziale Medien verbreitet, um eine möglichst heterogene \\nTeilnehmergruppe zu erreichen.  Die geschlossenen Fragen werden quantitativ -statistisch \\nausgewertet , während offene Antworten einer qualitativen Inhaltsanalyse unterzogen werden. Die',\n",
       " 'ausgewertet , während offene Antworten einer qualitativen Inhaltsanalyse unterzogen werden. Die \\nErgebnisse sollen bestehende Forschung ergänzen, neue Hypothesen generieren und praktische \\nEmpfehlungen für die Weiterentwicklung von E -Voting -Systemen in der Schweiz ableiten.  \\n  7 \\n Literaturverzeichnis  \\nAgate, V., De Paola, A., Ferraro, P., Lo Re, G., & Morana, M. (2021). SecureBallot: A secure \\nopen source e -Voting system. Journal of Network and Computer Applications , 191, \\n103165. https://doi.org/10.1016/j.jnca.2021.103165  \\nAlshehri, A., Baza, M., Srivastava, G., Rajeh, W., Alrowaily, M., & Almusali, M. (2023). Privacy -\\nPreserving E -Voting System Supporting Score Voting Using Blockchain. Applied \\nSciences , 13(2), Article 2. https://doi.org/10.3390/app13021096  \\nHajian Berenjestanaki, M., Barzegar, H. R., El Ioini, N., & Pahl, C. (2024). Blockchain -Based E -\\nVoting Systems: A Technology Review. Electronics , 13(1), Article 1. \\nhttps://doi.org/10.3390/electronics13010017',\n",
       " 'https://doi.org/10.3390/electronics13010017  \\nJayakumari, B., Sheeba, S. L., Eapen, M., Anbarasi, J., Ravi, V., Suganya, A., & Jawahar, M. \\n(2024). E -voting system using cloud -based hybrid blockchain technology. Journal of \\nSafety Science and Resilience , 5(1), 102 –109. \\nhttps://doi.org/10.1016/j.jnlssr.2024.01.002  \\nMannonov, K. M. ugli, & Myeong, S. (2024). Citizens’ Perception of Blockchain -Based E -Voting \\nSystems: Focusing on TAM. Sustainability , 16(11), Article 11. \\nhttps://doi.org/10.3390/su16114387  \\nPetitpas, A., Jaquet, J. M., & Sciarini, P. (2021). Does E -Voting matter for turnout, and to whom? \\nElectoral Studies , 71, 102245. https://doi.org/10.1016/j.electstud.2020.102245  \\nPleger, L. E., & Mertes, A. (2018). Use and assessment of e -voting systems: Findings from an \\nonline -survey among Swiss nationals living abroad. In Swiss Yearbook of Administrative \\nScience  (Bd. 9). Schweizerische Gesellschaft für Verwaltungswissenschaften. \\nhttps://doi.org/10.5334/ssas.1',\n",
       " 'https://doi.org/10.5334/ssas.1  \\nRathee, G., Iqbal, R., Waqar, O., & Bashir, A. K. (2021). On the Design and Implementation of a \\nBlockchain Enabled E -Voting Application Within IoT -Oriented Smart Cities. IEEE \\nAccess , 9, 34165 –34176. IEEE Access. https://doi.org/10.1109/ACCESS.2021.3061411  \\nReiners, M. (2020). Vote Électronique in Switzerland: Comparison of Relevant Pilot Projects. \\nJournal of Comparative Politics , 13(1), 58 –75. 8 \\n Sheela, A. C. S., & Franklin, Ramya. G. (2021). E -Voting System Using Homomorphic \\nEncryption Technique. Journal of Physics: Conference Series , 1770 (1), 012011. \\nhttps://doi.org/10.1088/1742 -6596/1770/1/012011  \\nSoares, J. M., & Vasconcelos, R. O. (2023). A distributed architecture proposal for e -voting. \\nTexto Livre , 16, e42204. https://doi.org/10.1590/1983 -3652.2023.42204  \\nTanwar, S., Gupta, N., Kumar, P., & Hu, Y. -C. (2024). Implementation of blockchain -based e -\\nvoting system. Multimedia Tools and Applications , 83(1), 1449 –1480.',\n",
       " 'voting system. Multimedia Tools and Applications , 83(1), 1449 –1480. \\nhttps://doi.org/10.1007/s11042 -023-15401 -1 \\nVladucu, M. -V., Dong, Z., Medina, J., & Rojas -Cessa, R. (2023). E -Voting Meets Blockchain: A \\nSurvey. IEEE Access , 11, 23293 –23308. IEEE Access. \\nhttps://doi.org/10.1109/ACCESS.2023.3253682  \\nZhang, X., Zhang, B., Kiayias, A., Zacharias, T., & Ren, K. (2022). An Efficient E2E Crowd \\nVerifiable E -Voting System. IEEE Transactions on Dependable and Secure Computing , \\n19(6), 3607 –3620. IEEE Transactions on Dependable and Secure Computing. \\nhttps://doi.org/10.1109/TDSC.2021.3103336']"
      ]
     },
     "execution_count": 5,
     "metadata": {},
     "output_type": "execute_result"
    }
   ],
   "source": [
    "# Initialize a text splitter with specified chunk size and overlap\n",
    "splitter = RecursiveCharacterTextSplitter(chunk_size=1000, chunk_overlap=100)\n",
    "# Split the extracted text into manageable chunks\n",
    "chunks = splitter.split_text(text)\n",
    "\n",
    "# Display the resulting chunks\n",
    "chunks"
   ]
  },
  {
   "cell_type": "markdown",
   "metadata": {},
   "source": [
    "# 📚 Experiment: Einfluss von `chunk_size` und `chunk_overlap` auf die Textsegmentierung\n",
    "\n",
    "## 🎯 Ziel\n",
    "Untersuche, wie sich unterschiedliche Werte für `chunk_size` und `chunk_overlap` auf:\n",
    "- die Anzahl der Text-Chunks,\n",
    "- den enthaltenen Kontext,\n",
    "- und die Verarbeitungsleistung auswirken.\n",
    "\n",
    "---\n",
    "\n",
    "## 🔍 Vergleich: `chunk_size = 10000` vs. `chunk_size = 2000`\n",
    "\n",
    "| Merkmal                  | `chunk_size = 10000`                       | `chunk_size = 2000`                       |\n",
    "|--------------------------|--------------------------------------------|--------------------------------------------|\n",
    "| **Chunk-Länge**          | Sehr lang – enthält viel Kontext           | Kurz – oft nur ein Abschnitt               |\n",
    "| **Anzahl der Chunks**    | Weniger                                    | Mehr                                       |\n",
    "| **Kontext pro Chunk**    | Hoch – besser für komplexe Aufgaben        | Geringer – gut für einfache Modelle        |\n",
    "| **Modellkompatibilität** | Für große Modelle mit langem Kontext       | Besser für kleinere Modelle oder APIs      |\n",
    "| **Leistung (Performance)** | Effizienter, aber speicherintensiv        | Flexibler, aber mehr Overhead durch Anzahl |\n",
    "\n",
    "---\n",
    "\n",
    "## 🔁 Vergleich: `chunk_overlap = 1000` vs. `chunk_overlap = 200`\n",
    "\n",
    "| Merkmal                       | `chunk_overlap = 1000`               | `chunk_overlap = 200`                    |\n",
    "|-------------------------------|--------------------------------------|------------------------------------------|\n",
    "| **Wiederholung zwischen Chunks** | Hoch – viel Redundanz               | Gering – effizienter                     |\n",
    "| **Kontextübergang**          | Glatt – fließender Informationsfluss | Risiko für Kontextverlust                |\n",
    "| **Speicherverbrauch**        | Höher (mehr Duplikate)               | Effizienter Speicherverbrauch            |\n",
    "| **Verarbeitungszeit**        | Länger durch größere Chunk-Anzahl    | Kürzer, aber evtl. Verlust an Qualität   |\n",
    "\n",
    "---\n",
    "\n",
    "## 📊 Beispiel: Anzahl Chunks bei 100.000 Zeichen\n",
    "\n",
    "| Einstellung                             | Geschätzte Anzahl an Chunks |\n",
    "|-----------------------------------------|------------------------------|\n",
    "| `chunk_size = 10000`, `overlap = 1000`  | ca. 11                       |\n",
    "| `chunk_size = 2000`, `overlap = 200`    | ca. 49                       |\n",
    "\n",
    "---\n",
    "\n",
    "## ✅ Fazit\n",
    "\n",
    "- **Große Chunks + großer Overlap**  \n",
    "  ✅ Gut für semantische Kohärenz  \n",
    "  ❌ Speicherintensiv\n",
    "\n",
    "- **Kleine Chunks + kleiner Overlap**  \n",
    "  ✅ Schnell und speichereffizient  \n",
    "  ❌ Risiko für unzusammenhängende Antworten\n",
    "\n",
    "---\n",
    "\n",
    "## 🧪 Empfehlung\n",
    "\n",
    "Teste verschiedene Kombinationen in deinem konkreten Anwendungsfall. Beobachte:\n",
    "- Wie verändert sich die Chunk-Anzahl (`len(chunks)`)?\n",
    "- Wo werden Trennungen gemacht?\n",
    "- Wie beeinflusst das spätere QA oder RAG-Performance?\n",
    "\n"
   ]
  },
  {
   "cell_type": "markdown",
   "metadata": {},
   "source": [
    "### Step 5: Creating and Saving a Vector Store\n",
    "\n",
    "In this step, we generate embeddings for the text chunks and store them in a vector database for efficient retrieval.\n",
    "\n",
    "1. **Generate Embeddings**:\n",
    "   - We use `GoogleGenerativeAIEmbeddings` to create embeddings for each text chunk.\n",
    "   - The parameter `model=\"models/embedding-001\"` specifies the embedding model to use. Ensure this model is available and properly configured in your environment.\n",
    "\n",
    "2. **Create the FAISS Vector Store**:\n",
    "   - FAISS (Facebook AI Similarity Search) is a library for efficient similarity search and clustering of dense vectors.\n",
    "\n",
    "3. **Save the Vector Store**:\n",
    "   - The `save_local(\"faiss_index\")` method saves the FAISS index to a local file.\n",
    "   - This allows us to reuse the index in later sessions without re-processing the text or regenerating embeddings.\n",
    "\n",
    "#### Notes:\n",
    "- **Why Use FAISS?**\n",
    "  - It is highly optimized for large-scale vector searches and enables quick retrieval of relevant chunks for a given query.\n",
    "- **Next Steps**:\n",
    "  - The stored vector database will be used to retrieve the most relevant chunks of text when querying the system."
   ]
  },
  {
   "cell_type": "code",
   "execution_count": 6,
   "metadata": {},
   "outputs": [],
   "source": [
    "embeddings = GoogleGenerativeAIEmbeddings(model=\"models/embedding-001\")\n",
    "vector_store = FAISS.from_texts(chunks, embedding=embeddings)\n",
    "vector_store.save_local(\"faiss_index\")\n"
   ]
  },
  {
   "cell_type": "markdown",
   "metadata": {},
   "source": [
    "### Step 6: Initializing Weave for Project Tracking\n",
    "\n",
    "In this step, we initialize **Weave**, a library designed for tracking and visualizing machine learning workflows and data flows.\n",
    "\n",
    "1. **What is Weave?**\n",
    "   - Weave is a tool for logging, monitoring, and debugging machine learning experiments and pipelines.\n",
    "   - It allows you to visualize your project’s structure, metrics, and progress, which is especially useful in iterative development.\n",
    "\n",
    "2. **Initialization**:\n",
    "   - The `weave.init()` function initializes a new Weave project. The argument `\"medical-data-chatbot\"` specifies the project name.\n",
    "   - This name will help organize and track this specific project in the Weave dashboard."
   ]
  },
  {
   "cell_type": "code",
   "execution_count": 7,
   "metadata": {},
   "outputs": [
    {
     "name": "stdout",
     "output_type": "stream",
     "text": [
      "weave version 0.51.46 is available!  To upgrade, please run:\n",
      " $ pip install weave --upgrade\n",
      "Logged in as Weights & Biases user: kaisest1.\n",
      "View Weave data at https://wandb.ai/kaisest1-zhaw/own-data-chatbot/weave\n"
     ]
    },
    {
     "data": {
      "text/plain": [
       "<weave.trace.weave_client.WeaveClient at 0x75e7dc4a8350>"
      ]
     },
     "execution_count": 7,
     "metadata": {},
     "output_type": "execute_result"
    }
   ],
   "source": [
    "weave.init(\"own-data-chatbot\")"
   ]
  },
  {
   "cell_type": "markdown",
   "metadata": {},
   "source": [
    "### Step 7: Setting Up the Retriever\n",
    "\n",
    "In this step, we configure a **retriever**.\n",
    "\n",
    "**Create a Retriever**:\n",
    "   - The `vector_store.as_retriever()` method converts the FAISS vector store into a retriever object.\n",
    "   - The parameter `k=4` specifies the maximum number of chunks to retrieve for each query. This ensures that only the top 4 most relevant chunks are returned.\n",
    "\n",
    "#### Notes:\n",
    "- **Why Limit the Results?**\n",
    "  - Limiting the number of results ensures that the model processes only the most relevant information, which can improve efficiency and response quality.\n",
    "  - The value of `k` can be adjusted based on the complexity of the query and the size of the text chunks.\n",
    "\n",
    "- **Next Steps**:\n",
    "  - The retriever will be used in conjunction with a generative model to form a **retrieval-augmented generation (RAG)** pipeline."
   ]
  },
  {
   "cell_type": "code",
   "execution_count": 8,
   "metadata": {},
   "outputs": [],
   "source": [
    "retriever = vector_store.as_retriever(search_kwargs={\"k\": 4})"
   ]
  },
  {
   "cell_type": "markdown",
   "metadata": {},
   "source": [
    "<p style=\"color:green; font-size: 16px;\">\n",
    "<b>Exercise: Exploring Retriever Functionality</b><br>\n",
    "<b>Goal:</b> Gain an understanding of how a retriever operates and how it determines document relevance.<br><br>\n",
    "\n",
    "<b>Instructions:</b><br>\n",
    "<ul style=\"color:green;\">\n",
    "<li>After completing <b>Step 7: Setting Up the Retriever (Cell 7)</b>, test the retriever with three distinct queries:</li>\n",
    "<ul style=\"color:green;\">\n",
    "    <li>A query closely related to the dataset content (relevant).</li>\n",
    "    <li>A query with ambiguous wording (vague).</li>\n",
    "    <li>A query entirely unrelated to the dataset (unrelated).</li>\n",
    "</ul>\n",
    "<li>For each query, analyze the documents retrieved and discuss the following:</li>\n",
    "<ul style=\"color:green;\">\n",
    "    <li>Why were these specific documents selected?</li>\n",
    "    <li>How well do the retrieved documents align with the query intent?</li>\n",
    "    <li>What patterns or limitations do you observe in the retriever's behavior?</li>\n",
    "</ul>\n",
    "</ul>\n",
    "\n",
    "<b>Purpose:</b> This exercise helps you understand the principles and limitations of similarity-based retrieval, fostering insight into its performance across different types of queries.\n",
    "</p>"
   ]
  },
  {
   "cell_type": "code",
   "execution_count": 9,
   "metadata": {},
   "outputs": [
    {
     "name": "stderr",
     "output_type": "stream",
     "text": [
      "/tmp/ipykernel_75403/331778398.py:7: LangChainDeprecationWarning: The method `BaseRetriever.get_relevant_documents` was deprecated in langchain-core 0.1.46 and will be removed in 1.0. Use :meth:`~invoke` instead.\n",
      "  results_relevant = retriever.get_relevant_documents(query_relevant)\n"
     ]
    },
    {
     "name": "stdout",
     "output_type": "stream",
     "text": [
      "Relevante Abfrage Ergebnisse: [Document(metadata={}, page_content='Effekte nachweisen konnten, zeigen die Autoren, dass E -Voting insbesondere bei Abstinenten \\nund Ge legenheitswählern die Teilnahme erhöht (Petitpas et al., 2021, S. 9, 10) . Dabei profitiert \\nvor allem die ältere Bevölkerung, während junge und Frauen vergleichsweise weniger mobilisiert \\nwerden. Insgesamt kommt die Studie zu m Schluss, dass E -Voting die politische Teilnahme unter \\nbestimmten Bedingungen fördern kann, ohne jedoch bestehende Ungleichheiten vollständig zu \\nüberwinden (Petitpas et al., 2021, S. 9) . Daten aus der Schweiz zeigen , dass zentrale politische \\nStrukturen, gesetzliche Anpassungen und konsensorientierte Zusammenarbeit wesentliche \\nErfolgsfaktoren für die Einführung und Umsetzung von E -Voting darstellen  (Reiners, 2020, S. 63) . \\nGleichzeitig verdeutlicht der Fall Zürich, wie politische Uneinigkeit, technische Unsicherheiten und \\ninstitutionelle Fragmentierung die Einführung von E -Voting -Systemen  hemmen können (Reiners, \\n2020, S. 68, 69) .'), Document(metadata={}, page_content='Sie orientier t sich an der Zielsetzung, bestehende Barrieren zu identifizieren und vor dem \\nHintergrund internationaler Entwicklungen und technischer Innovationen einzuordnen. Zugleich \\nwird angestrebt, praxisrelevante Handlungsempfehlungen für die Weiterentwicklung \\nelektronischer Wahlsysteme in der Schweiz abzuleiten . \\n4. Forschungsdesign und Methodisches Vorgehen  \\nZur Beantwortung der Forschungsfrage wird ein mixed -method -Ansatz gewählt, der deduktive \\nund induktive Elemente kombiniert. Ausgangspunkt ist ein deduktives Vorgehen, das auf \\ntheoretischen Annahmen und bestehenden Studien zur E -Voting -Akzeptanz basiert (z. \\u202fB. \\nTechnology Acceptance Model, Datenschutztheorien, institutionelle Ansätze). Diese werden in \\neinem zweiten Schritt durch induktiv erhobene empirische Daten ergänzt, um neue  Erkenntnisse \\nüber bestehende Hürden und Akzeptanzbarrieren zu gewinnen.  Kern des empirischen Teils ist'), Document(metadata={}, page_content='Experimentelle Ergebnisse zeigen, dass das System bis zu 10.000 Transaktionen effizient \\nverarbeiten kann, was es für kleine bis mittelgrosse Wahlen geeignet mach t (Alshehri et al., 2023, \\nS. 14) . \\nDie Hauptvorteile von Blockchain -basierten E -Voting -Systemen sind Sicherheit, Transparenz und \\nEffizienz durch Unveränderbarkeit, Dezentralisierung und Smart Contracts (Hajian \\nBerenjestanaki et al., 2024, S. 1)  sowie eine potentiell höhere Wahlbeteiligung (Mannonov & \\nMyeong, 2024, S. 14) . Smart Contracts sind digitale Verträge, die auf der Blockchain gespeichert \\nund automatisch ausgeführt werden, sobald die im Code festgelegten Bedingungen erfüllt sind. \\nSie fungieren als Backend für dezentrale Anwendungen und ermöglichen den sicheren Austau sch \\ndigitaler Vermögenswerte ohne Zwischeninstanzen. Trotz ihres Potenzials steckt die Technologie \\nnoch in den Anfängen und wird derzeit vor allem für Kryptowährungstransaktionen und'), Document(metadata={}, page_content='bestehe nden Verfahren verbesserte Ergebnisse hinsichtlich Authentifizierungsverzögerung, \\nAngriffserkennung (z.\\u202fB.  DDoS) und Manipulationssicherheit aufweist (Rathee et al., 2021, S. \\n34175) . \\nVladucu et al. (2023, S. 23294)  bieten einen Überblick über mehr als 60 Blockchain -basierte E -\\nVoting -Systeme. Die Studie beleuchtet die Potenziale von Blockchain zur Erhöhung von \\nTransparenz, Sicherheit und Unveränderbarkeit elektronischer Wahlprozesse. Dabei werden \\nverschiedene Blockch ain-Typen (öffentlich, privat, hybrid), Konsensalgorithmen (z.\\u202fB. Proof of \\nWork, PBFT, Proof of Vote) sowie kryptografische Verfahren (z.\\u202fB. Zero -Knowledge -Proofs, Blind \\nSignatures) vorgestellt (Vladucu et al., 2023, S. 23295, 23296) . Es werden reale Anwendungen \\naus Ländern wie Estland, Australien, Russland und der Schweiz analysiert und kommerzielle \\nSysteme wie Voatz, Polyas oder Follow My Vote diskutiert  (Vladucu et al., 2023, S. 23303) . Die 4')]\n",
      "Vage Abfrage Ergebnisse: [Document(metadata={}, page_content='Effekte nachweisen konnten, zeigen die Autoren, dass E -Voting insbesondere bei Abstinenten \\nund Ge legenheitswählern die Teilnahme erhöht (Petitpas et al., 2021, S. 9, 10) . Dabei profitiert \\nvor allem die ältere Bevölkerung, während junge und Frauen vergleichsweise weniger mobilisiert \\nwerden. Insgesamt kommt die Studie zu m Schluss, dass E -Voting die politische Teilnahme unter \\nbestimmten Bedingungen fördern kann, ohne jedoch bestehende Ungleichheiten vollständig zu \\nüberwinden (Petitpas et al., 2021, S. 9) . Daten aus der Schweiz zeigen , dass zentrale politische \\nStrukturen, gesetzliche Anpassungen und konsensorientierte Zusammenarbeit wesentliche \\nErfolgsfaktoren für die Einführung und Umsetzung von E -Voting darstellen  (Reiners, 2020, S. 63) . \\nGleichzeitig verdeutlicht der Fall Zürich, wie politische Uneinigkeit, technische Unsicherheiten und \\ninstitutionelle Fragmentierung die Einführung von E -Voting -Systemen  hemmen können (Reiners, \\n2020, S. 68, 69) .'), Document(metadata={}, page_content='Teilnehmenden. Die Ergebnisse zeigen eine hohe Akzeptanz: 97\\u202f% der Befragten g eben an, E -\\nVoting nutzen zu wollen. Als zentrale Einflussfaktoren identifizierten die Autoren die \\nwahrgenommene Nützlichkeit und Benutzerfreundlichkeit des Systems sowie das Vertrauen in \\nstaatliche Institutionen und die Sicherheit der technischen Prozesse  (Pleger & Mertes, 2018, S. \\n7, 8). Die Studie stützt sich auf das Technology Acceptance Model (TAM) und erweitert dieses um \\ndie Dimension „Vertrauen“. Trotz der insgesamt positiven Bewertungen w ird in offenen Antworten \\ndeutlich, dass Bedenken hinsichtlich Datenschutz und Transparenz weiterhin bestehen (Pleger & \\nMertes, 2018, S. 7) . \\nPetitpas et al. (2021, S. 1)  untersuchen auf Basis individueller Stimmdaten aus dem Kanton Genf \\nden Einfluss von E -Voting auf die Wahlbeteiligung. Während aggregierte Studien bisher kaum \\nEffekte nachweisen konnten, zeigen die Autoren, dass E -Voting insbesondere bei Abstinenten'), Document(metadata={}, page_content='Sie orientier t sich an der Zielsetzung, bestehende Barrieren zu identifizieren und vor dem \\nHintergrund internationaler Entwicklungen und technischer Innovationen einzuordnen. Zugleich \\nwird angestrebt, praxisrelevante Handlungsempfehlungen für die Weiterentwicklung \\nelektronischer Wahlsysteme in der Schweiz abzuleiten . \\n4. Forschungsdesign und Methodisches Vorgehen  \\nZur Beantwortung der Forschungsfrage wird ein mixed -method -Ansatz gewählt, der deduktive \\nund induktive Elemente kombiniert. Ausgangspunkt ist ein deduktives Vorgehen, das auf \\ntheoretischen Annahmen und bestehenden Studien zur E -Voting -Akzeptanz basiert (z. \\u202fB. \\nTechnology Acceptance Model, Datenschutztheorien, institutionelle Ansätze). Diese werden in \\neinem zweiten Schritt durch induktiv erhobene empirische Daten ergänzt, um neue  Erkenntnisse \\nüber bestehende Hürden und Akzeptanzbarrieren zu gewinnen.  Kern des empirischen Teils ist'), Document(metadata={}, page_content='über bestehende Hürden und Akzeptanzbarrieren zu gewinnen.  Kern des empirischen Teils ist \\neine standardisierte Online -Umfrage, die sich an Schweizer Bürger  richtet. Ziel ist es, konkrete \\nBedenken, Erwartungen und Wahrnehmungen im Zusammenhang mit E -Voting zu erheben. Der \\nFragebogen enthält sowohl geschlossene (Likert -Skalen) als auch offene Fragen und orientiert 6 \\n sich an den zentralen Themen Sicherheit, Datenschutz, Vertrauen, Bedienbarkeit und politisches \\nInteresse.  \\nErgänzend wird erhoben, welche technischen oder politischen Rahmenbedingungen aus Sicht \\nder Befragten notwendig wären, um E -Voting zu unterstützen.  Die Umfrage wird über Online -\\nKanäle, Hochschulnetzwerke und soziale Medien verbreitet, um eine möglichst heterogene \\nTeilnehmergruppe zu erreichen.  Die geschlossenen Fragen werden quantitativ -statistisch \\nausgewertet , während offene Antworten einer qualitativen Inhaltsanalyse unterzogen werden. Die')]\n",
      "Unrelevante Abfrage Ergebnisse: [Document(metadata={}, page_content='Sie orientier t sich an der Zielsetzung, bestehende Barrieren zu identifizieren und vor dem \\nHintergrund internationaler Entwicklungen und technischer Innovationen einzuordnen. Zugleich \\nwird angestrebt, praxisrelevante Handlungsempfehlungen für die Weiterentwicklung \\nelektronischer Wahlsysteme in der Schweiz abzuleiten . \\n4. Forschungsdesign und Methodisches Vorgehen  \\nZur Beantwortung der Forschungsfrage wird ein mixed -method -Ansatz gewählt, der deduktive \\nund induktive Elemente kombiniert. Ausgangspunkt ist ein deduktives Vorgehen, das auf \\ntheoretischen Annahmen und bestehenden Studien zur E -Voting -Akzeptanz basiert (z. \\u202fB. \\nTechnology Acceptance Model, Datenschutztheorien, institutionelle Ansätze). Diese werden in \\neinem zweiten Schritt durch induktiv erhobene empirische Daten ergänzt, um neue  Erkenntnisse \\nüber bestehende Hürden und Akzeptanzbarrieren zu gewinnen.  Kern des empirischen Teils ist'), Document(metadata={}, page_content='über bestehende Hürden und Akzeptanzbarrieren zu gewinnen.  Kern des empirischen Teils ist \\neine standardisierte Online -Umfrage, die sich an Schweizer Bürger  richtet. Ziel ist es, konkrete \\nBedenken, Erwartungen und Wahrnehmungen im Zusammenhang mit E -Voting zu erheben. Der \\nFragebogen enthält sowohl geschlossene (Likert -Skalen) als auch offene Fragen und orientiert 6 \\n sich an den zentralen Themen Sicherheit, Datenschutz, Vertrauen, Bedienbarkeit und politisches \\nInteresse.  \\nErgänzend wird erhoben, welche technischen oder politischen Rahmenbedingungen aus Sicht \\nder Befragten notwendig wären, um E -Voting zu unterstützen.  Die Umfrage wird über Online -\\nKanäle, Hochschulnetzwerke und soziale Medien verbreitet, um eine möglichst heterogene \\nTeilnehmergruppe zu erreichen.  Die geschlossenen Fragen werden quantitativ -statistisch \\nausgewertet , während offene Antworten einer qualitativen Inhaltsanalyse unterzogen werden. Die'), Document(metadata={}, page_content='Effekte nachweisen konnten, zeigen die Autoren, dass E -Voting insbesondere bei Abstinenten \\nund Ge legenheitswählern die Teilnahme erhöht (Petitpas et al., 2021, S. 9, 10) . Dabei profitiert \\nvor allem die ältere Bevölkerung, während junge und Frauen vergleichsweise weniger mobilisiert \\nwerden. Insgesamt kommt die Studie zu m Schluss, dass E -Voting die politische Teilnahme unter \\nbestimmten Bedingungen fördern kann, ohne jedoch bestehende Ungleichheiten vollständig zu \\nüberwinden (Petitpas et al., 2021, S. 9) . Daten aus der Schweiz zeigen , dass zentrale politische \\nStrukturen, gesetzliche Anpassungen und konsensorientierte Zusammenarbeit wesentliche \\nErfolgsfaktoren für die Einführung und Umsetzung von E -Voting darstellen  (Reiners, 2020, S. 63) . \\nGleichzeitig verdeutlicht der Fall Zürich, wie politische Uneinigkeit, technische Unsicherheiten und \\ninstitutionelle Fragmentierung die Einführung von E -Voting -Systemen  hemmen können (Reiners, \\n2020, S. 68, 69) .'), Document(metadata={}, page_content='Zürcher Hochschule für Angewandte Wissenschaften ZHAW  \\nSchool of Management and Law  \\n \\n \\nDisposition: E-Voting in der Schweiz: welche \\nHürden stehen der E inführung noch im Weg?  \\n \\n \\n \\n \\nDozent: Philipp Stalder  \\nDepartment: School of Management and Law  \\nModul: w.BA.XX.3WM -WIN.XX  Wissenschaftliche  Method en \\nSemester: 6. Semester  \\n \\n \\n \\n \\nAbgabedatum: 13.04.2025 \\n  1 \\n Abstract \\nE-Voting gilt als vielversprechende Möglichkeit, demokratische Prozesse in der Schweiz zu \\nmodernisieren und insbesondere Auslandschweizer n sowie mobilitätseingeschränkten Personen \\ndie Stimmabgabe zu erleichtern. Trotz langjähriger Pilotprojekte bestehen weiterhin erhebliche \\nHürden, etwa im Bereich der technischen Sicherheit, des Datenschutzes und der politischen \\nUmsetzung. Ziel dieser Arbeit ist es, zentrale Barrieren bei der Einführung von E -Voting zu \\nidentifizieren und zu analysieren. Dafür wird ein ded uktiv-induktiver Forschungsansatz gewählt,')]\n"
     ]
    }
   ],
   "source": [
    "# Abfragen definieren\n",
    "query_relevant = \"Wie beeinflusst eine hohe Proteinzufuhr den Körper?\"\n",
    "query_vague = \"Wie beeinflusst Diät den Körper?\"\n",
    "query_unrelated = \"Wie baue ich einen Papierflieger?\"\n",
    "\n",
    "# Abfragen ausführen\n",
    "results_relevant = retriever.get_relevant_documents(query_relevant)\n",
    "results_vague = retriever.get_relevant_documents(query_vague)\n",
    "results_unrelated = retriever.get_relevant_documents(query_unrelated)\n",
    "\n",
    "# Ergebnisse anzeigen\n",
    "print(\"Relevante Abfrage Ergebnisse:\", results_relevant)\n",
    "print(\"Vage Abfrage Ergebnisse:\", results_vague)\n",
    "print(\"Unrelevante Abfrage Ergebnisse:\", results_unrelated)"
   ]
  },
  {
   "cell_type": "markdown",
   "metadata": {},
   "source": [
    "### Step 8: Demonstrating the Retriever in Action\n",
    "\n",
    "In this step, we test the retriever by providing a sample query and observing the returned results.\n",
    "\n",
    "1. **Purpose of this Demonstration**:\n",
    "   - This step shows that the retriever functions independently and (correctly) fetches the most relevant chunks of text based on the query.\n",
    "\n",
    "2. **Query the Retriever**:\n",
    "   - The `retriever.invoke()` method takes a query (in this case, `\"What is the difference between high and medium protein-based diets?\"`) and searches the vector store for the most relevant chunks.\n",
    "   - The retriever returns the top `k=4` results, as configured earlier.\n",
    "\n",
    "3. **Output**:\n",
    "   - The `docs` variable contains the retrieved chunks as a list of text strings."
   ]
  },
  {
   "cell_type": "code",
   "execution_count": 10,
   "metadata": {},
   "outputs": [
    {
     "data": {
      "text/plain": [
       "[Document(metadata={}, page_content='Experimentelle Ergebnisse zeigen, dass das System bis zu 10.000 Transaktionen effizient \\nverarbeiten kann, was es für kleine bis mittelgrosse Wahlen geeignet mach t (Alshehri et al., 2023, \\nS. 14) . \\nDie Hauptvorteile von Blockchain -basierten E -Voting -Systemen sind Sicherheit, Transparenz und \\nEffizienz durch Unveränderbarkeit, Dezentralisierung und Smart Contracts (Hajian \\nBerenjestanaki et al., 2024, S. 1)  sowie eine potentiell höhere Wahlbeteiligung (Mannonov & \\nMyeong, 2024, S. 14) . Smart Contracts sind digitale Verträge, die auf der Blockchain gespeichert \\nund automatisch ausgeführt werden, sobald die im Code festgelegten Bedingungen erfüllt sind. \\nSie fungieren als Backend für dezentrale Anwendungen und ermöglichen den sicheren Austau sch \\ndigitaler Vermögenswerte ohne Zwischeninstanzen. Trotz ihres Potenzials steckt die Technologie \\nnoch in den Anfängen und wird derzeit vor allem für Kryptowährungstransaktionen und'),\n",
       " Document(metadata={}, page_content='bestehe nden Verfahren verbesserte Ergebnisse hinsichtlich Authentifizierungsverzögerung, \\nAngriffserkennung (z.\\u202fB.  DDoS) und Manipulationssicherheit aufweist (Rathee et al., 2021, S. \\n34175) . \\nVladucu et al. (2023, S. 23294)  bieten einen Überblick über mehr als 60 Blockchain -basierte E -\\nVoting -Systeme. Die Studie beleuchtet die Potenziale von Blockchain zur Erhöhung von \\nTransparenz, Sicherheit und Unveränderbarkeit elektronischer Wahlprozesse. Dabei werden \\nverschiedene Blockch ain-Typen (öffentlich, privat, hybrid), Konsensalgorithmen (z.\\u202fB. Proof of \\nWork, PBFT, Proof of Vote) sowie kryptografische Verfahren (z.\\u202fB. Zero -Knowledge -Proofs, Blind \\nSignatures) vorgestellt (Vladucu et al., 2023, S. 23295, 23296) . Es werden reale Anwendungen \\naus Ländern wie Estland, Australien, Russland und der Schweiz analysiert und kommerzielle \\nSysteme wie Voatz, Polyas oder Follow My Vote diskutiert  (Vladucu et al., 2023, S. 23303) . Die 4'),\n",
       " Document(metadata={}, page_content='Systeme wie Voatz, Polyas oder Follow My Vote diskutiert  (Vladucu et al., 2023, S. 23303) . Die 4 \\n Autoren identifizieren offene Forschungsfelder, zum Beispiel hinsichtlich Skalierbarkeit, \\nBenutzerfreundlichkeit, Interoperabilität und Vertrauensbildung, besonders für Nutzergruppen \\nohne technische Affinität (Vladucu et al., 2023, S. 23299) .  \\nAlshehri et al. (2023, S. 1)  beschreiben ein Blockchain -basiertes E -Voting -System, das Score -\\nVoting ermöglicht und dabei Privatsphäre sowie Sicherheit gewährleistet. Das System nutzt Zero -\\nKnowledge -Beweise, um sicherzustellen, dass die abgegebenen Stimmen innerhalb eines \\ndefinierten B ereichs liegen, ohne die konkreten Werte preiszugeben (Alshehri et al., 2023, S. 2) . \\nDurch die Dezentralität der Blockchain wird Manipulation verhindert und Transparenz gewahrt. \\nExperimentelle Ergebnisse zeigen, dass das System bis zu 10.000 Transaktionen effizient'),\n",
       " Document(metadata={}, page_content='Sie orientier t sich an der Zielsetzung, bestehende Barrieren zu identifizieren und vor dem \\nHintergrund internationaler Entwicklungen und technischer Innovationen einzuordnen. Zugleich \\nwird angestrebt, praxisrelevante Handlungsempfehlungen für die Weiterentwicklung \\nelektronischer Wahlsysteme in der Schweiz abzuleiten . \\n4. Forschungsdesign und Methodisches Vorgehen  \\nZur Beantwortung der Forschungsfrage wird ein mixed -method -Ansatz gewählt, der deduktive \\nund induktive Elemente kombiniert. Ausgangspunkt ist ein deduktives Vorgehen, das auf \\ntheoretischen Annahmen und bestehenden Studien zur E -Voting -Akzeptanz basiert (z. \\u202fB. \\nTechnology Acceptance Model, Datenschutztheorien, institutionelle Ansätze). Diese werden in \\neinem zweiten Schritt durch induktiv erhobene empirische Daten ergänzt, um neue  Erkenntnisse \\nüber bestehende Hürden und Akzeptanzbarrieren zu gewinnen.  Kern des empirischen Teils ist')]"
      ]
     },
     "execution_count": 10,
     "metadata": {},
     "output_type": "execute_result"
    }
   ],
   "source": [
    "docs = retriever.invoke(\"What is the difference between high and medium protein-based diets?\")\n",
    "docs"
   ]
  },
  {
   "cell_type": "markdown",
   "metadata": {},
   "source": [
    "### Step 9: Creating the Question-Answering System\n",
    "\n",
    "In this step, we set up the components needed to answer user questions based on the retrieved documents.\n",
    "\n",
    "1. **Define the System Template**:\n",
    "   - The `system_template` string specifies how the generative model should process the retrieved context.\n",
    "   - It instructs the model to answer the user's question using the information provided in the `<context>` placeholder.\n",
    "\n",
    "2. **Create a Prompt Template**:\n",
    "   - The `PromptTemplate` wraps the `system_template` into a reusable object.\n",
    "   - The `input_variables=[\"context\"]` defines which variables need to be filled in when the prompt is used.\n",
    "\n",
    "3. **Initialize the Generative Model**:\n",
    "   - The `ChatGoogleGenerativeAI` class is used to instantiate a chat-based model.\n",
    "   - Parameters:\n",
    "     - `model=\"gemini-1.5-pro-latest\"` specifies the version of the model to use.\n",
    "     - `temperature=0.5` controls the randomness of the responses. A value of `0.5` balances creativity and determinism.\n",
    "\n",
    "4. **Create the Document Chain**:\n",
    "   - The `create_stuff_documents_chain()` function integrates the model and the prompt into a chain.\n",
    "\n",
    "#### Notes:\n",
    "- **Model Selection**:\n",
    "   - The `\"gemini-1.5-pro-latest\"` model is used here, but it can be replaced with other compatible models if needed.\n",
    "- **Customizable Prompt**:\n",
    "   - The `system_template` can be adjusted to meet the requirements of different use cases\n",
    "- **Next Steps**:\n",
    "   - Use this document chain to generate answers for specific queries in combination with the retriever."
   ]
  },
  {
   "cell_type": "code",
   "execution_count": 11,
   "metadata": {},
   "outputs": [],
   "source": [
    "# Define the template for answering user questions based on a provided context\n",
    "system_template = \"\"\"\n",
    "Answer the users question based on the below context:\n",
    "<context> {context} </context>\n",
    "Say that you don't know the answer if you the context is not relevant to the question.\n",
    "\"\"\"\n",
    "# Create a prompt template for the question-answering system\n",
    "question_answering_prompt = PromptTemplate(template=system_template, input_variables=[\"context\"])\n",
    "\n",
    "# Initialize the generative model for question answering\n",
    "model = ChatGoogleGenerativeAI(model=\"gemini-1.5-pro-latest\", temperature=0.5)\n",
    "\n",
    "# Create a document chain to handle the retrieval and response generation process\n",
    "document_chain = create_stuff_documents_chain(llm=model, prompt=question_answering_prompt)\n"
   ]
  },
  {
   "cell_type": "markdown",
   "metadata": {},
   "source": [
    "### Step 10: Testing the Document Chain for Question-Answering\n",
    "\n",
    "In this step, we test the full retrieval-augmented generation (RAG) chain by invoking the `document_chain` with a user query and the retrieved context.\n",
    "\n",
    "1. **Purpose**:\n",
    "   - This step demonstrates how the `document_chain` integrates the retrieved context (`docs`) and the user query to generate a response using the generative model.\n",
    "\n",
    "2. **Components of the Input**:\n",
    "   - **Context**:\n",
    "     - The `context` key is assigned the value of `docs`, which contains the top chunks retrieved by the retriever in **Step 7**.\n",
    "     - This ensures the model has access to relevant information when answering the query.\n",
    "   - **Messages**:\n",
    "     - A list of messages simulates a conversational interaction.\n",
    "     - The `HumanMessage` object represents the user query: `\"What is the difference between high and medium protein-based diets?\"`.\n",
    "\n",
    "4. **Expected Output**:\n",
    "   - The output is a response from the model, which synthesizes the retrieved context and the query to provide an accurate and relevant answer."
   ]
  },
  {
   "cell_type": "code",
   "execution_count": 16,
   "metadata": {},
   "outputs": [
    {
     "data": {
      "text/plain": [
       "\"What are some of the key advantages of blockchain-based e-voting systems, and what are some real-world examples of their implementation?\\n\\nKey advantages include:\\n\\n* **Security:**  Blockchain's immutability and decentralization enhance the security of the voting process.\\n* **Transparency:** All transactions are recorded on the blockchain, promoting transparency.\\n* **Efficiency:** Smart contracts automate the voting process, increasing efficiency.\\n* **Potentially higher voter turnout:** Though not definitively proven, some research suggests blockchain-based systems could encourage participation.\\n\\nReal-world examples (mentioned in the context) include implementations in:\\n\\n* **Estonia**\\n* **Australia**\\n* **Russia**\\n* **Switzerland**\\n\\nCommercial systems mentioned include:\\n\\n* **Voatz**\\n* **Polyas**\\n* **Follow My Vote**\\n\""
      ]
     },
     "execution_count": 16,
     "metadata": {},
     "output_type": "execute_result"
    }
   ],
   "source": [
    "document_chain.invoke(\n",
    "    {\n",
    "        \"context\": docs,\n",
    "        \"messages\": [\n",
    "            HumanMessage(content=\"In which country is E-voting not popular?\")\n",
    "        ],\n",
    "    }\n",
    ")"
   ]
  },
  {
   "cell_type": "markdown",
   "metadata": {},
   "source": [
    "### Step 11: Building a Combined Retrieval Chain\n",
    "\n",
    "In this step, we create a combined retrieval-augmented generation (RAG) chain that integrates retrieval and document generation into a seamless pipeline.\n",
    "\n",
    "1. **Helper Function**:\n",
    "   - The `parse_retriever_input` function extracts the latest user query from the `params` dictionary.\n",
    "   - Specifically, it accesses the `\"messages\"` key and retrieves the content of the last message, which represents the most recent user query.\n",
    "\n",
    "2. **RunnablePassthrough**:\n",
    "   - A `RunnablePassthrough` is a utility that passes data through the specified processing steps without additional transformation.\n",
    "   - We use its `.assign()` method to define the sequence of operations in the chain.\n",
    "\n",
    "3. **Assigning Operations**:\n",
    "   - The chain is composed of two key steps:\n",
    "     - **Step 1: Retrieve Context**:\n",
    "       - The `parse_retriever_input` function extracts the user query.\n",
    "       - This query is passed through the `retriever` to fetch the relevant text chunks.\n",
    "       - The result is assigned to the `context` key.\n",
    "     - **Step 2: Generate Answer**:\n",
    "       - The `document_chain` takes the retrieved context and generates an answer based on the query.\n",
    "       - The result is assigned to the `answer` key.\n",
    "\n",
    "4. **Output**:\n",
    "   - The `retrieval_chain` object is now a runnable pipeline that combines retrieval and response generation in a single operation."
   ]
  },
  {
   "cell_type": "code",
   "execution_count": 17,
   "metadata": {},
   "outputs": [],
   "source": [
    "# Define a helper function to extract the latest user query from the input parameters\n",
    "def parse_retriever_input(params: Dict):\n",
    "    return params[\"messages\"][-1].content\n",
    "\n",
    "# Create a retrieval chain with a passthrough mechanism\n",
    "retrieval_chain = RunnablePassthrough.assign(\n",
    "    # First step: Extract the user query and use it to retrieve relevant context\n",
    "    context=parse_retriever_input | retriever,\n",
    ").assign(\n",
    "    # Second step: Use the retrieved context to generate an answer\n",
    "    answer=document_chain,\n",
    ")"
   ]
  },
  {
   "cell_type": "markdown",
   "metadata": {},
   "source": [
    "### Step 12: Testing the Combined Retrieval Chain\n",
    "\n",
    "In this step, we test the more complex `retrieval_chain` pipeline to ensure that it seamlessly integrates the retrieval and generation steps.\n",
    "\n",
    "1. **Purpose**:\n",
    "   - This test validates that the chain can process user queries end-to-end:\n",
    "     - Extracting the query.\n",
    "     - Retrieving the relevant context using the `retriever`.\n",
    "     - Generating a coherent response using the `document_chain`.\n",
    "\n",
    "2. **Input Structure**:\n",
    "   - The input is a dictionary with the key `\"messages\"`, which contains a list of messages.\n",
    "   - Each message is represented as a `HumanMessage` object.\n",
    "\n",
    "3. **Pipeline Execution**:\n",
    "   - **Query Extraction**: The `parse_retriever_input` function extracts the query from the last message in the list.\n",
    "   - **Context Retrieval**: The query is passed to the `retriever` to fetch the most relevant text chunks.\n",
    "   - **Answer Generation**: The retrieved context is fed into the `document_chain`, which uses the prompt and generative model to produce the final answer.\n",
    "\n",
    "4. **Expected Output**:\n",
    "   - A dictionary containing:\n",
    "     - `\"context\"`: The retrieved text chunks.\n",
    "     - `\"answer\"`: The generated response to the user query."
   ]
  },
  {
   "cell_type": "code",
   "execution_count": 18,
   "metadata": {},
   "outputs": [
    {
     "data": {
      "text/plain": [
       "{'messages': [HumanMessage(content='In which country is E-voting not popular?', additional_kwargs={}, response_metadata={})],\n",
       " 'context': [Document(metadata={}, page_content='Teilnehmenden. Die Ergebnisse zeigen eine hohe Akzeptanz: 97\\u202f% der Befragten g eben an, E -\\nVoting nutzen zu wollen. Als zentrale Einflussfaktoren identifizierten die Autoren die \\nwahrgenommene Nützlichkeit und Benutzerfreundlichkeit des Systems sowie das Vertrauen in \\nstaatliche Institutionen und die Sicherheit der technischen Prozesse  (Pleger & Mertes, 2018, S. \\n7, 8). Die Studie stützt sich auf das Technology Acceptance Model (TAM) und erweitert dieses um \\ndie Dimension „Vertrauen“. Trotz der insgesamt positiven Bewertungen w ird in offenen Antworten \\ndeutlich, dass Bedenken hinsichtlich Datenschutz und Transparenz weiterhin bestehen (Pleger & \\nMertes, 2018, S. 7) . \\nPetitpas et al. (2021, S. 1)  untersuchen auf Basis individueller Stimmdaten aus dem Kanton Genf \\nden Einfluss von E -Voting auf die Wahlbeteiligung. Während aggregierte Studien bisher kaum \\nEffekte nachweisen konnten, zeigen die Autoren, dass E -Voting insbesondere bei Abstinenten'),\n",
       "  Document(metadata={}, page_content='Effekte nachweisen konnten, zeigen die Autoren, dass E -Voting insbesondere bei Abstinenten \\nund Ge legenheitswählern die Teilnahme erhöht (Petitpas et al., 2021, S. 9, 10) . Dabei profitiert \\nvor allem die ältere Bevölkerung, während junge und Frauen vergleichsweise weniger mobilisiert \\nwerden. Insgesamt kommt die Studie zu m Schluss, dass E -Voting die politische Teilnahme unter \\nbestimmten Bedingungen fördern kann, ohne jedoch bestehende Ungleichheiten vollständig zu \\nüberwinden (Petitpas et al., 2021, S. 9) . Daten aus der Schweiz zeigen , dass zentrale politische \\nStrukturen, gesetzliche Anpassungen und konsensorientierte Zusammenarbeit wesentliche \\nErfolgsfaktoren für die Einführung und Umsetzung von E -Voting darstellen  (Reiners, 2020, S. 63) . \\nGleichzeitig verdeutlicht der Fall Zürich, wie politische Uneinigkeit, technische Unsicherheiten und \\ninstitutionelle Fragmentierung die Einführung von E -Voting -Systemen  hemmen können (Reiners, \\n2020, S. 68, 69) .'),\n",
       "  Document(metadata={}, page_content='technologischer Entwicklungen vor erheblichen Herausforderungen. So besteht zwar eine hohe \\ngrundsätzliche Akzeptanz für elektronische Wahlsysteme  (Pleger & Mertes, 2018, S. 5) , doch \\ngleichzeitig bleiben substanzielle Bedenken hinsichtlich Sicherheit, Datenschutz und \\nTransparenz bestehen  (Agate et al., 2021, S. 2; Sheela & Franklin, 2021, S. 6) . Sicherheitsrisiken \\nbetreffen insbesondere Manipulationsmöglichkeiten  und die Gewährleistung des \\nWahlgeheimnisses  (Rathee et al., 2021, S. 34175; Vladucu et al., 2023, S. 23294) .  \\nIn einer zunehmend mobilen und digitalisierten Gesellschaft wächst der Anspruch, politische \\nRechte flexibel, orts - und zeitunabhängig auszuüben. E -Voting adressiert dieses Bedürfnis: Es \\nerleichtert insbesondere Auslandschweizer n, älteren Menschen oder Personen mit \\neingeschränkter Mobilität die Teilnahme an Wahlen und Abstimmungen  und unterstützt somit die \\nE-Government -Strategie des Bundes (Reiners, 2020, S. 59) . Trotz  des technologischen'),\n",
       "  Document(metadata={}, page_content='E-Government -Strategie des Bundes (Reiners, 2020, S. 59) . Trotz  des technologischen \\nPotenzials  von Blockchain -basierten Systemen  besteh t weiterhin erheblicher Forschungsbedarf, \\ninsbesondere hinsichtlich Skalierbarkeit und Energieeffizienz  (Tanwar et al., 2024, S. 1470 –\\n1471) . \\n2. Stand der Forschung  \\nIm Folgenden werden zentrale Forschungsergebnisse dargestellt, die als Grundlage für die \\nempirische Untersuchung dieser Arbeit dienen. Dabei wird insbesondere auf Beiträge \\neingegangen, die sich mit der Wahrnehmung von Nutzern , innovativen Systemarchitekturen \\nsowie der Situation in der Schweiz befassen.  2 \\n 2.1. Nutzen und Akze ptanz  \\nPleger und Mertes (2018, S. 5)  untersuchen die Nutzung und Bewertung von E -Voting -Systemen \\ndurch Schweizer Staatsangehörige im Ausland auf Basis einer Online -Umfrage mit 596 \\nTeilnehmenden. Die Ergebnisse zeigen eine hohe Akzeptanz: 97\\u202f% der Befragten g eben an, E -')],\n",
       " 'answer': \"What percentage of respondents in Pleger and Mertes (2018)'s study indicated they would use e-voting?\\n\\n97% of the respondents in Pleger and Mertes (2018)'s study of Swiss nationals abroad indicated they would use e-voting.\\n\"}"
      ]
     },
     "execution_count": 18,
     "metadata": {},
     "output_type": "execute_result"
    }
   ],
   "source": [
    "retrieval_chain.invoke(\n",
    "    {\n",
    "        \"messages\": [\n",
    "            HumanMessage(content=\"In which country is E-voting not popular?\")\n",
    "        ],\n",
    "    }\n",
    ")"
   ]
  },
  {
   "cell_type": "markdown",
   "metadata": {},
   "source": [
    "### Step 13: Testing the Retrieval Chain with a Follow-Up Query\n",
    "\n",
    "This step demonstrates a limitation of the current retrieval pipeline when handling vague or follow-up queries without explicit reference to the context of the previous conversation.\n",
    "\n",
    "1. **Purpose**:\n",
    "   - To test how the retriever responds to a vague query such as `\"Tell me more\"`.\n",
    "   - Highlight the challenge of maintaining conversational context in the current implementation.\n",
    "\n",
    "2. **Current Behavior**:\n",
    "   - The `retrieval_chain` processes the input query `\"Tell me more\"` independently, without considering previous queries or their context.\n",
    "   - The retriever fetches documents that match the new query, but since `\"Tell me more\"` is nonspecific, the results may be irrelevant or nonsensical.\n",
    "\n",
    "3. **Expected Behavior**:\n",
    "   - Ideally, the system should infer that `\"Tell me more\"` is a continuation of the prior query (`\"What is the difference between high and medium protein-based diets?\"`).\n",
    "   - The retrieved documents should provide additional information about the initial topic.\n",
    "\n",
    "4. **Limitation**:\n",
    "   - The current design does not track conversational context or incorporate previous messages into the retrieval process."
   ]
  },
  {
   "cell_type": "code",
   "execution_count": 19,
   "metadata": {},
   "outputs": [
    {
     "data": {
      "text/plain": [
       "{'messages': [HumanMessage(content='Tell me more', additional_kwargs={}, response_metadata={})],\n",
       " 'context': [Document(metadata={}, page_content='Systeme wie Voatz, Polyas oder Follow My Vote diskutiert  (Vladucu et al., 2023, S. 23303) . Die 4 \\n Autoren identifizieren offene Forschungsfelder, zum Beispiel hinsichtlich Skalierbarkeit, \\nBenutzerfreundlichkeit, Interoperabilität und Vertrauensbildung, besonders für Nutzergruppen \\nohne technische Affinität (Vladucu et al., 2023, S. 23299) .  \\nAlshehri et al. (2023, S. 1)  beschreiben ein Blockchain -basiertes E -Voting -System, das Score -\\nVoting ermöglicht und dabei Privatsphäre sowie Sicherheit gewährleistet. Das System nutzt Zero -\\nKnowledge -Beweise, um sicherzustellen, dass die abgegebenen Stimmen innerhalb eines \\ndefinierten B ereichs liegen, ohne die konkreten Werte preiszugeben (Alshehri et al., 2023, S. 2) . \\nDurch die Dezentralität der Blockchain wird Manipulation verhindert und Transparenz gewahrt. \\nExperimentelle Ergebnisse zeigen, dass das System bis zu 10.000 Transaktionen effizient'),\n",
       "  Document(metadata={}, page_content='Experimentelle Ergebnisse zeigen, dass das System bis zu 10.000 Transaktionen effizient \\nverarbeiten kann, was es für kleine bis mittelgrosse Wahlen geeignet mach t (Alshehri et al., 2023, \\nS. 14) . \\nDie Hauptvorteile von Blockchain -basierten E -Voting -Systemen sind Sicherheit, Transparenz und \\nEffizienz durch Unveränderbarkeit, Dezentralisierung und Smart Contracts (Hajian \\nBerenjestanaki et al., 2024, S. 1)  sowie eine potentiell höhere Wahlbeteiligung (Mannonov & \\nMyeong, 2024, S. 14) . Smart Contracts sind digitale Verträge, die auf der Blockchain gespeichert \\nund automatisch ausgeführt werden, sobald die im Code festgelegten Bedingungen erfüllt sind. \\nSie fungieren als Backend für dezentrale Anwendungen und ermöglichen den sicheren Austau sch \\ndigitaler Vermögenswerte ohne Zwischeninstanzen. Trotz ihres Potenzials steckt die Technologie \\nnoch in den Anfängen und wird derzeit vor allem für Kryptowährungstransaktionen und'),\n",
       "  Document(metadata={}, page_content='bestehe nden Verfahren verbesserte Ergebnisse hinsichtlich Authentifizierungsverzögerung, \\nAngriffserkennung (z.\\u202fB.  DDoS) und Manipulationssicherheit aufweist (Rathee et al., 2021, S. \\n34175) . \\nVladucu et al. (2023, S. 23294)  bieten einen Überblick über mehr als 60 Blockchain -basierte E -\\nVoting -Systeme. Die Studie beleuchtet die Potenziale von Blockchain zur Erhöhung von \\nTransparenz, Sicherheit und Unveränderbarkeit elektronischer Wahlprozesse. Dabei werden \\nverschiedene Blockch ain-Typen (öffentlich, privat, hybrid), Konsensalgorithmen (z.\\u202fB. Proof of \\nWork, PBFT, Proof of Vote) sowie kryptografische Verfahren (z.\\u202fB. Zero -Knowledge -Proofs, Blind \\nSignatures) vorgestellt (Vladucu et al., 2023, S. 23295, 23296) . Es werden reale Anwendungen \\naus Ländern wie Estland, Australien, Russland und der Schweiz analysiert und kommerzielle \\nSysteme wie Voatz, Polyas oder Follow My Vote diskutiert  (Vladucu et al., 2023, S. 23303) . Die 4'),\n",
       "  Document(metadata={}, page_content='noch in den Anfängen und wird derzeit vor allem für Kryptowährungstransaktionen und \\nEigentumsnachweise genutzt  (Tanwar et al., 2024, S. 1457) . \\nEs bestehen Herausforderungen wie Skalierbarkeitsprobleme bei grossen Wahlen und die \\nschwierige Balance zwischen Anonymität und Nachvollziehbarkeit. Lösungsansätze umfassen \\nZero-Knowledge -Proofs und homomorphe Verschlüsselung, um Datenschutz und \\nVerifizierba rkeit zu gewährleisten  (Hajian Berenjestanaki et al., 2024, S. 26) . Während die \\nTechnologie grosses Potenzial zeigt, sind weitere Forschung und praktische Tests notwendig, um \\nsie für den breiten Einsatz in demokratischen Wahlen zu optimieren  (Hajian Berenjestanaki et al., \\n2024, S. 31) . Die Akzeptanz solcher Systeme hängt massgeblich von der wahrgenommenen \\nBenutzerfreundlichkeit und dem Nutzen ab, wobei Vertrauen in die Technologie eine zentrale \\nRolle spielt  (Mannonov & Myeong, 2024, S. 1) . Die Integration von künstlicher Intelligenz könnte')],\n",
       " 'answer': \"What are some of the key advantages and disadvantages of blockchain-based e-voting systems, and what are some proposed solutions to address the challenges?\\n\\nAdvantages:\\n\\n* **Security:** Blockchain's immutability and decentralization enhance resistance to manipulation and fraud.\\n* **Transparency:** All transactions are recorded on the public ledger, promoting verifiability.\\n* **Efficiency:** Smart contracts automate vote counting and other processes.\\n* **Potentially higher voter turnout:**  Some research suggests blockchain-based systems could increase participation.\\n\\nDisadvantages:\\n\\n* **Scalability:**  Handling large elections can be challenging due to blockchain's limitations.\\n* **Balancing anonymity and verifiability:**  Ensuring privacy while allowing for auditability is complex.\\n* **User-friendliness:** Systems need to be accessible to users without technical expertise.\\n* **Building trust:** Public confidence in the technology is crucial for adoption.\\n\\nProposed solutions to address challenges:\\n\\n* **Zero-knowledge proofs and homomorphic encryption:** These cryptographic techniques can help balance privacy and verifiability.\\n* **Improved scalability solutions:**  Research is ongoing to address the limitations of blockchain for large-scale elections.\\n* **Focus on user interface and user experience design:**  Making systems intuitive and easy to use is critical for broader adoption.\\n* **Public education and awareness campaigns:** Building trust requires educating the public about the technology and its benefits.\\n\"}"
      ]
     },
     "execution_count": 19,
     "metadata": {},
     "output_type": "execute_result"
    }
   ],
   "source": [
    "retrieval_chain.invoke(\n",
    "    {\n",
    "        \"messages\": [\n",
    "            HumanMessage(content=\"Tell me more\")\n",
    "        ],\n",
    "    }\n",
    ")"
   ]
  },
  {
   "cell_type": "markdown",
   "metadata": {},
   "source": [
    "### Step 14: Testing the Retriever Directly with a Vague Query\n",
    "\n",
    "1. **Purpose**:\n",
    "   - To show that the retriever retrieves documents directly related to the query without any consideration of conversational history or prior context.\n",
    "   - This highlights the challenge of vague queries in isolation.\n",
    "\n",
    "2. **Current Behavior**:\n",
    "   - The retriever processes the query `\"Tell me more!\"` independently and returns documents that match this phrase based on the embedding similarity.\n",
    "   - Since `\"Tell me more!\"` lacks specific content, the results are likely to be generic or nonsensical unless a context happens to align by chance.\n"
   ]
  },
  {
   "cell_type": "code",
   "execution_count": 20,
   "metadata": {},
   "outputs": [
    {
     "data": {
      "text/plain": [
       "[Document(metadata={}, page_content='Systeme wie Voatz, Polyas oder Follow My Vote diskutiert  (Vladucu et al., 2023, S. 23303) . Die 4 \\n Autoren identifizieren offene Forschungsfelder, zum Beispiel hinsichtlich Skalierbarkeit, \\nBenutzerfreundlichkeit, Interoperabilität und Vertrauensbildung, besonders für Nutzergruppen \\nohne technische Affinität (Vladucu et al., 2023, S. 23299) .  \\nAlshehri et al. (2023, S. 1)  beschreiben ein Blockchain -basiertes E -Voting -System, das Score -\\nVoting ermöglicht und dabei Privatsphäre sowie Sicherheit gewährleistet. Das System nutzt Zero -\\nKnowledge -Beweise, um sicherzustellen, dass die abgegebenen Stimmen innerhalb eines \\ndefinierten B ereichs liegen, ohne die konkreten Werte preiszugeben (Alshehri et al., 2023, S. 2) . \\nDurch die Dezentralität der Blockchain wird Manipulation verhindert und Transparenz gewahrt. \\nExperimentelle Ergebnisse zeigen, dass das System bis zu 10.000 Transaktionen effizient'),\n",
       " Document(metadata={}, page_content='über bestehende Hürden und Akzeptanzbarrieren zu gewinnen.  Kern des empirischen Teils ist \\neine standardisierte Online -Umfrage, die sich an Schweizer Bürger  richtet. Ziel ist es, konkrete \\nBedenken, Erwartungen und Wahrnehmungen im Zusammenhang mit E -Voting zu erheben. Der \\nFragebogen enthält sowohl geschlossene (Likert -Skalen) als auch offene Fragen und orientiert 6 \\n sich an den zentralen Themen Sicherheit, Datenschutz, Vertrauen, Bedienbarkeit und politisches \\nInteresse.  \\nErgänzend wird erhoben, welche technischen oder politischen Rahmenbedingungen aus Sicht \\nder Befragten notwendig wären, um E -Voting zu unterstützen.  Die Umfrage wird über Online -\\nKanäle, Hochschulnetzwerke und soziale Medien verbreitet, um eine möglichst heterogene \\nTeilnehmergruppe zu erreichen.  Die geschlossenen Fragen werden quantitativ -statistisch \\nausgewertet , während offene Antworten einer qualitativen Inhaltsanalyse unterzogen werden. Die'),\n",
       " Document(metadata={}, page_content='Experimentelle Ergebnisse zeigen, dass das System bis zu 10.000 Transaktionen effizient \\nverarbeiten kann, was es für kleine bis mittelgrosse Wahlen geeignet mach t (Alshehri et al., 2023, \\nS. 14) . \\nDie Hauptvorteile von Blockchain -basierten E -Voting -Systemen sind Sicherheit, Transparenz und \\nEffizienz durch Unveränderbarkeit, Dezentralisierung und Smart Contracts (Hajian \\nBerenjestanaki et al., 2024, S. 1)  sowie eine potentiell höhere Wahlbeteiligung (Mannonov & \\nMyeong, 2024, S. 14) . Smart Contracts sind digitale Verträge, die auf der Blockchain gespeichert \\nund automatisch ausgeführt werden, sobald die im Code festgelegten Bedingungen erfüllt sind. \\nSie fungieren als Backend für dezentrale Anwendungen und ermöglichen den sicheren Austau sch \\ndigitaler Vermögenswerte ohne Zwischeninstanzen. Trotz ihres Potenzials steckt die Technologie \\nnoch in den Anfängen und wird derzeit vor allem für Kryptowährungstransaktionen und'),\n",
       " Document(metadata={}, page_content='bestehe nden Verfahren verbesserte Ergebnisse hinsichtlich Authentifizierungsverzögerung, \\nAngriffserkennung (z.\\u202fB.  DDoS) und Manipulationssicherheit aufweist (Rathee et al., 2021, S. \\n34175) . \\nVladucu et al. (2023, S. 23294)  bieten einen Überblick über mehr als 60 Blockchain -basierte E -\\nVoting -Systeme. Die Studie beleuchtet die Potenziale von Blockchain zur Erhöhung von \\nTransparenz, Sicherheit und Unveränderbarkeit elektronischer Wahlprozesse. Dabei werden \\nverschiedene Blockch ain-Typen (öffentlich, privat, hybrid), Konsensalgorithmen (z.\\u202fB. Proof of \\nWork, PBFT, Proof of Vote) sowie kryptografische Verfahren (z.\\u202fB. Zero -Knowledge -Proofs, Blind \\nSignatures) vorgestellt (Vladucu et al., 2023, S. 23295, 23296) . Es werden reale Anwendungen \\naus Ländern wie Estland, Australien, Russland und der Schweiz analysiert und kommerzielle \\nSysteme wie Voatz, Polyas oder Follow My Vote diskutiert  (Vladucu et al., 2023, S. 23303) . Die 4')]"
      ]
     },
     "execution_count": 20,
     "metadata": {},
     "output_type": "execute_result"
    }
   ],
   "source": [
    "retriever.invoke(\"Tell me more!\")"
   ]
  },
  {
   "cell_type": "markdown",
   "metadata": {},
   "source": [
    "### Step 15: Adding Query Transformation to Improve Contextual Relevance\n",
    "\n",
    "This step introduces a **query transformation prompt** to address the limitations of vague queries like `\"Tell me more!\"`. The goal is to reframe such queries in the context of the conversation, producing a more meaningful query for the retriever.\n",
    "\n",
    "1. **Purpose**:\n",
    "   - To improve the retrieval system by generating a context-aware search query that reflects the ongoing conversation.\n",
    "   - This ensures that follow-up queries are relevant and meaningful, even if they are vague.\n",
    "\n",
    "2. **Query Transformation Prompt**:\n",
    "   - The `ChatPromptTemplate.from_messages()` method creates a prompt that uses all prior messages (`messages`) as context.\n",
    "   - The prompt asks the model to:\n",
    "     - Analyze the prior conversation.\n",
    "     - Generate a search query tailored to the user's intent and the ongoing context.\n",
    "     - Output **only** the transformed query for use with the retriever.\n",
    "\n",
    "#### Notes:\n",
    "- **Benefits**:\n",
    "   - This approach bridges the gap between conversational input and the retriever's expectations for specific queries.\n",
    "\n",
    "- **Limitations**:\n",
    "   - The effectiveness depends on the quality of the generative model used for query transformation.\n",
    "   - Ambiguous conversations might still produce suboptimal queries."
   ]
  },
  {
   "cell_type": "code",
   "execution_count": 21,
   "metadata": {},
   "outputs": [],
   "source": [
    "\n",
    "query_transform_prompt = ChatPromptTemplate.from_messages(\n",
    "    [\n",
    "        MessagesPlaceholder(variable_name=\"messages\"),\n",
    "        (\n",
    "            \"user\",\n",
    "            \"Given the above conversation, generate a search query to look up in order to get information relevant to the conversation. Only respond with the query, nothing else.\",\n",
    "        ),\n",
    "    ]\n",
    ")"
   ]
  },
  {
   "cell_type": "markdown",
   "metadata": {},
   "source": [
    "<p style=\"color:green; font-size: 16px;\">\n",
    "<b>Exercise: Experimenting with Query Transformation</b><br>\n",
    "<b>Goal:</b> Understand the role of query transformation in improving contextual relevance and retrieval accuracy.<br><br>\n",
    "\n",
    "<b>Instructions:</b><br>\n",
    "<ul style=\"color:green;\">\n",
    "<li>After completing <b>Step 15: Adding Query Transformation to Improve Contextual Relevance (Cell 15)</b>, modify the <code>query_transform_prompt</code> to tailor the generated search queries for a specific domain, such as:</li>\n",
    "<ul style=\"color:green;\">\n",
    "    <li>Scientific research</li>\n",
    "    <li>Customer support</li>\n",
    "</ul>\n",
    "<li>Test the modified prompt by providing multiple follow-up queries, such as:</li>\n",
    "<ul style=\"color:green;\">\n",
    "    <li>\"Tell me more\"</li>\n",
    "    <li>\"Explain further\"</li>\n",
    "    <li>\"Can you provide examples?\"</li>\n",
    "</ul>\n",
    "<li>Observe and analyze the transformed queries for each example. Reflect on the following:</li>\n",
    "<ul style=\"color:green;\">\n",
    "    <li>How well do the transformed queries align with the domain-specific context?</li>\n",
    "    <li>Do the transformed queries improve retrieval accuracy for the intended domain?</li>\n",
    "    <li>What potential improvements could be made to the transformation prompt?</li>\n",
    "</ul>\n",
    "</ul>\n",
    "\n",
    "<b>Purpose:</b> This exercise demonstrates how query transformation can enhance retrieval performance by aligning queries more closely with domain-specific needs, helping to fine-tune the system for specialized use cases.\n",
    "</p>\n"
   ]
  },
  {
   "cell_type": "code",
   "execution_count": 22,
   "metadata": {},
   "outputs": [],
   "source": [
    "query_transform_prompt = ChatPromptTemplate.from_messages(\n",
    "    [\n",
    "        MessagesPlaceholder(variable_name=\"messages\"),\n",
    "        (\n",
    "            \"user\",\n",
    "            \"Given the above customer support conversation, generate a specific follow-up search query that reflects the user's intent and the support context. Be concise and only output the search query, nothing else.\",\n",
    "        ),\n",
    "    ]\n",
    ")\n"
   ]
  },
  {
   "cell_type": "code",
   "execution_count": 23,
   "metadata": {},
   "outputs": [
    {
     "data": {
      "text/plain": [
       "{'messages': [HumanMessage(content='Tell me more', additional_kwargs={}, response_metadata={})],\n",
       " 'context': [Document(metadata={}, page_content='Systeme wie Voatz, Polyas oder Follow My Vote diskutiert  (Vladucu et al., 2023, S. 23303) . Die 4 \\n Autoren identifizieren offene Forschungsfelder, zum Beispiel hinsichtlich Skalierbarkeit, \\nBenutzerfreundlichkeit, Interoperabilität und Vertrauensbildung, besonders für Nutzergruppen \\nohne technische Affinität (Vladucu et al., 2023, S. 23299) .  \\nAlshehri et al. (2023, S. 1)  beschreiben ein Blockchain -basiertes E -Voting -System, das Score -\\nVoting ermöglicht und dabei Privatsphäre sowie Sicherheit gewährleistet. Das System nutzt Zero -\\nKnowledge -Beweise, um sicherzustellen, dass die abgegebenen Stimmen innerhalb eines \\ndefinierten B ereichs liegen, ohne die konkreten Werte preiszugeben (Alshehri et al., 2023, S. 2) . \\nDurch die Dezentralität der Blockchain wird Manipulation verhindert und Transparenz gewahrt. \\nExperimentelle Ergebnisse zeigen, dass das System bis zu 10.000 Transaktionen effizient'),\n",
       "  Document(metadata={}, page_content='Experimentelle Ergebnisse zeigen, dass das System bis zu 10.000 Transaktionen effizient \\nverarbeiten kann, was es für kleine bis mittelgrosse Wahlen geeignet mach t (Alshehri et al., 2023, \\nS. 14) . \\nDie Hauptvorteile von Blockchain -basierten E -Voting -Systemen sind Sicherheit, Transparenz und \\nEffizienz durch Unveränderbarkeit, Dezentralisierung und Smart Contracts (Hajian \\nBerenjestanaki et al., 2024, S. 1)  sowie eine potentiell höhere Wahlbeteiligung (Mannonov & \\nMyeong, 2024, S. 14) . Smart Contracts sind digitale Verträge, die auf der Blockchain gespeichert \\nund automatisch ausgeführt werden, sobald die im Code festgelegten Bedingungen erfüllt sind. \\nSie fungieren als Backend für dezentrale Anwendungen und ermöglichen den sicheren Austau sch \\ndigitaler Vermögenswerte ohne Zwischeninstanzen. Trotz ihres Potenzials steckt die Technologie \\nnoch in den Anfängen und wird derzeit vor allem für Kryptowährungstransaktionen und'),\n",
       "  Document(metadata={}, page_content='bestehe nden Verfahren verbesserte Ergebnisse hinsichtlich Authentifizierungsverzögerung, \\nAngriffserkennung (z.\\u202fB.  DDoS) und Manipulationssicherheit aufweist (Rathee et al., 2021, S. \\n34175) . \\nVladucu et al. (2023, S. 23294)  bieten einen Überblick über mehr als 60 Blockchain -basierte E -\\nVoting -Systeme. Die Studie beleuchtet die Potenziale von Blockchain zur Erhöhung von \\nTransparenz, Sicherheit und Unveränderbarkeit elektronischer Wahlprozesse. Dabei werden \\nverschiedene Blockch ain-Typen (öffentlich, privat, hybrid), Konsensalgorithmen (z.\\u202fB. Proof of \\nWork, PBFT, Proof of Vote) sowie kryptografische Verfahren (z.\\u202fB. Zero -Knowledge -Proofs, Blind \\nSignatures) vorgestellt (Vladucu et al., 2023, S. 23295, 23296) . Es werden reale Anwendungen \\naus Ländern wie Estland, Australien, Russland und der Schweiz analysiert und kommerzielle \\nSysteme wie Voatz, Polyas oder Follow My Vote diskutiert  (Vladucu et al., 2023, S. 23303) . Die 4'),\n",
       "  Document(metadata={}, page_content='noch in den Anfängen und wird derzeit vor allem für Kryptowährungstransaktionen und \\nEigentumsnachweise genutzt  (Tanwar et al., 2024, S. 1457) . \\nEs bestehen Herausforderungen wie Skalierbarkeitsprobleme bei grossen Wahlen und die \\nschwierige Balance zwischen Anonymität und Nachvollziehbarkeit. Lösungsansätze umfassen \\nZero-Knowledge -Proofs und homomorphe Verschlüsselung, um Datenschutz und \\nVerifizierba rkeit zu gewährleisten  (Hajian Berenjestanaki et al., 2024, S. 26) . Während die \\nTechnologie grosses Potenzial zeigt, sind weitere Forschung und praktische Tests notwendig, um \\nsie für den breiten Einsatz in demokratischen Wahlen zu optimieren  (Hajian Berenjestanaki et al., \\n2024, S. 31) . Die Akzeptanz solcher Systeme hängt massgeblich von der wahrgenommenen \\nBenutzerfreundlichkeit und dem Nutzen ab, wobei Vertrauen in die Technologie eine zentrale \\nRolle spielt  (Mannonov & Myeong, 2024, S. 1) . Die Integration von künstlicher Intelligenz könnte')],\n",
       " 'answer': \"What are some of the key advantages and disadvantages of blockchain-based e-voting systems, and what are some of the proposed solutions to address the challenges?\\n\\nAdvantages:\\n\\n* **Security:** Blockchain's immutability and decentralization make it highly secure and resistant to manipulation.\\n* **Transparency:** All transactions are recorded on the public ledger, promoting transparency and auditability.\\n* **Efficiency:** Smart contracts automate the voting process, reducing the need for intermediaries and increasing efficiency.\\n* **Potentially higher voter turnout:**  E-voting systems could make voting more accessible, potentially leading to increased participation.\\n\\nDisadvantages:\\n\\n* **Scalability:**  Current systems may struggle to handle large-scale elections efficiently.\\n* **Balancing anonymity and verifiability:**  Ensuring both voter privacy and the ability to verify the integrity of the election is a complex challenge.\\n* **User-friendliness and trust:**  Public acceptance depends on the perceived ease of use and trust in the technology.\\n\\nProposed Solutions:\\n\\n* **Zero-knowledge proofs and homomorphic encryption:** These cryptographic techniques can help balance anonymity and verifiability, allowing verification of votes without revealing individual choices.\\n* **Further research and practical testing:** Continued development and real-world trials are crucial for optimizing these systems for widespread use.\\n* **Integration of artificial intelligence:** AI could potentially enhance various aspects of e-voting, though this is still an area of ongoing exploration.\\n\"}"
      ]
     },
     "execution_count": 23,
     "metadata": {},
     "output_type": "execute_result"
    }
   ],
   "source": [
    "retrieval_chain.invoke(\n",
    "    {\n",
    "        \"messages\": [\n",
    "            HumanMessage(content=\"Tell me more\")\n",
    "        ],\n",
    "    }\n",
    ")"
   ]
  },
  {
   "cell_type": "markdown",
   "metadata": {},
   "source": [
    "### Step 16: Adding a Model to the Query Transformation Chain\n",
    "\n",
    "In this step, we enhance the query transformation process by integrating a generative model into the chain. This enables the system to dynamically generate refined, context-aware search queries.\n",
    "\n",
    "1. **Purpose**:\n",
    "   - To implement a **query transformation chain** that processes conversational context and user input to produce an optimized query for the retriever.\n",
    "   - By combining the transformation prompt with the generative model, we create an end-to-end pipeline for query reformulation.\n",
    "\n",
    "5. **Improved Retrieval**:\n",
    "   - The transformed query should be more specific and meaningful now, improving the retriever's ability to fetch relevant results."
   ]
  },
  {
   "cell_type": "code",
   "execution_count": 24,
   "metadata": {},
   "outputs": [],
   "source": [
    "query_transformation_chain = query_transform_prompt | model"
   ]
  },
  {
   "cell_type": "markdown",
   "metadata": {},
   "source": [
    "### Step 17: Testing the Query Transformation Chain\n",
    "\n",
    "In this step, we test the **query transformation chain** to verify its ability to refine vague queries like `\"Tell me more!\"` into meaningful search queries using the context of the preceding conversation.\n",
    "\n",
    "1. **Purpose**:\n",
    "   - To validate that the `query_transformation_chain` can analyze the conversational context and generate a search query relevant to the user’s intent.\n",
    "   - This test demonstrates how the chain integrates the conversational history when reformulating vague follow-up queries.\n",
    "\n",
    "2. **Input Structure**:\n",
    "   - **Messages**:\n",
    "     - A list of messages simulating a conversation:\n",
    "       - **First Message (Human)**: `\"What is the difference between high and medium protein-based diets?\"`\n",
    "       - **Second Message (AI)**: A detailed response summarizing research findings on protein-based diets.\n",
    "       - **Third Message (Human)**: `\"Tell me more!\"`, a vague follow-up query.\n",
    "   - The chain uses this conversation history to generate a refined query."
   ]
  },
  {
   "cell_type": "code",
   "execution_count": 25,
   "metadata": {},
   "outputs": [
    {
     "data": {
      "text/plain": [
       "AIMessage(content='effects of high vs normal protein diet on type 2 diabetes weight loss\\n', additional_kwargs={}, response_metadata={'prompt_feedback': {'block_reason': 0, 'safety_ratings': []}, 'finish_reason': 'STOP', 'safety_ratings': []}, id='run-f07cf7af-4454-4fa8-aa05-4289e244f941-0', usage_metadata={'input_tokens': 126, 'output_tokens': 15, 'total_tokens': 141, 'input_token_details': {'cache_read': 0}})"
      ]
     },
     "execution_count": 25,
     "metadata": {},
     "output_type": "execute_result"
    }
   ],
   "source": [
    "query_transformation_chain.invoke(\n",
    "    {\n",
    "        \"messages\": [\n",
    "            HumanMessage(content=\"What is the difference between high and medium protein-based diets?\"),\n",
    "            AIMessage(\n",
    "                content=\"he study found that both high and normal protein diets improved body composition and glucose control in adults with type 2 diabetes. The lack of observed effects of dietary protein and red meat consumption on weight loss and improved cardiometabolic health suggest that achieved weight loss – rather than diet composition – should be the principal target of dietary interventions for T2D management.\"\n",
    "            ),\n",
    "            HumanMessage(content=\"Tell me more!\"),\n",
    "        ],\n",
    "    }\n",
    ")"
   ]
  },
  {
   "cell_type": "markdown",
   "metadata": {},
   "source": [
    "### Step 18: Building the Query-Transforming Retriever Chain\n",
    "\n",
    "In this step, we create a **query-transforming retriever chain** that dynamically adapts its behavior based on the structure of the input.\n",
    "\n",
    "1. **Purpose**:\n",
    "   - To handle two scenarios seamlessly:\n",
    "     - **Single Message**: When there is only one message, pass the content directly to the retriever.\n",
    "     - **Multiple Messages**: When there is a conversational history, use the query transformation chain to refine the query before passing it to the retriever.\n",
    "   - This flexible chain improves the system's ability to handle both straightforward and context-dependent queries.\n",
    "\n",
    "2. **Components**:\n",
    "   - **RunnableBranch**:\n",
    "     - Dynamically selects a branch to execute based on the input condition.\n",
    "   - **Condition**:\n",
    "     - The lambda function `lambda x: len(x.get(\"messages\", [])) == 1` checks if the input contains only one message.\n",
    "     - If `True`, the first branch is executed. Otherwise, the second branch is used.\n",
    "   - **First Branch**:\n",
    "     - If there is only one message:\n",
    "       - Extract the content of the last message with `lambda x: x[\"messages\"][-1].content`.\n",
    "       - Pass this content directly to the `retriever` to fetch relevant documents.\n",
    "   - **Second Branch**:\n",
    "     - If there are multiple messages:\n",
    "       - The input is passed through the query transformation pipeline:\n",
    "         1. `query_transform_prompt`: Captures and reformulates the query in context.\n",
    "         2. `model`: Generates the refined query.\n",
    "         3. `StrOutputParser()`: Parses the output string for compatibility with the retriever.\n",
    "       - The transformed query is passed to the `retriever`.\n",
    "\n",
    "3. **Configuration**:\n",
    "   - The `with_config(run_name=\"chat_retriever_chain\")` method assigns a unique name to this chain, making it easier to track during execution and debugging."
   ]
  },
  {
   "cell_type": "code",
   "execution_count": 26,
   "metadata": {},
   "outputs": [],
   "source": [
    "query_transforming_retriever_chain = RunnableBranch(\n",
    "    (\n",
    "        lambda x: len(x.get(\"messages\", [])) == 1,\n",
    "        # If only one message, then we just pass that message's content to retriever\n",
    "        (lambda x: x[\"messages\"][-1].content) | retriever,\n",
    "    ),\n",
    "    # If messages, then we pass inputs to LLM chain to transform the query, then pass to retriever\n",
    "    query_transform_prompt | model | StrOutputParser() | retriever,\n",
    ").with_config(run_name=\"chat_retriever_chain\")"
   ]
  },
  {
   "cell_type": "markdown",
   "metadata": {},
   "source": [
    "### Step 19: Finalizing the Conversational Retrieval-Augmented Generation (RAG) Pipeline\n",
    "\n",
    "This step integrates all the components to build the final conversational RAG pipeline, which can handle multi-turn conversations, transform queries, retrieve relevant documents, and generate accurate answers.\n",
    "\n",
    "1. **System Template**:\n",
    "   - The `SYSTEM_TEMPLATE` defines the behavior of the answer generation system:\n",
    "     - Instructs the model to base its answers solely on the provided context.\n",
    "     - Explicitly directs the model to say `\"I don't know\"` if the context lacks relevant information, reducing the risk of hallucinations.\n",
    "\n",
    "2. **Question-Answering Prompt**:\n",
    "   - The `ChatPromptTemplate.from_messages()` creates a structured prompt for the system.\n",
    "   - Components:\n",
    "     - **System Message**: Sets the rules and behavior for answer generation.\n",
    "     - **Messages Placeholder**: Captures the conversational context and query for generating the final response.\n",
    "\n",
    "3. **Document Chain**:\n",
    "   - The `create_stuff_documents_chain()` function combines the generative model (`model`) with the question-answering prompt.\n",
    "   - This chain processes the retrieved context and conversational history to generate a coherent and relevant answer.\n",
    "\n",
    "4. **Conversational Retrieval Chain**:\n",
    "   - The `RunnablePassthrough.assign()` method is used to sequentially integrate:\n",
    "     - **Context Retrieval**:\n",
    "       - The `query_transforming_retriever_chain` retrieves relevant documents based on transformed queries or direct input.\n",
    "     - **Answer Generation**:\n",
    "       - The `document_chain` generates a final response based on the retrieved context and user input."
   ]
  },
  {
   "cell_type": "code",
   "execution_count": 27,
   "metadata": {},
   "outputs": [],
   "source": [
    "# Define the system template for generating answers\n",
    "SYSTEM_TEMPLATE = \"\"\"\n",
    "Answer the user's questions based on the below context. \n",
    "If the context doesn't contain any relevant information to the question, don't make something up and just say \"I don't know\":\n",
    "\n",
    "<context>\n",
    "{context}\n",
    "</context>\n",
    "\"\"\"\n",
    "\n",
    "# Create a prompt template for question answering (refer to Step 9 for prompt creation)\n",
    "question_answering_prompt = ChatPromptTemplate.from_messages(\n",
    "    [\n",
    "        (\n",
    "            \"system\",\n",
    "            SYSTEM_TEMPLATE,\n",
    "        ),\n",
    "        MessagesPlaceholder(variable_name=\"messages\"),  # Adds conversational context (Step 9)\n",
    "    ]\n",
    ")\n",
    "\n",
    "# Create a document chain for answering user questions (refer to Step 9)\n",
    "document_chain = create_stuff_documents_chain(model, question_answering_prompt)\n",
    "\n",
    "# Build the final conversational retrieval chain\n",
    "# Combine the transformed query retrieval (Step 18) with the document chain (Step 9)\n",
    "conversational_retrieval_chain = RunnablePassthrough.assign(\n",
    "    # Assign the transformed query context to the retrieval chain (refer to Step 18)\n",
    "    context=query_transforming_retriever_chain,\n",
    ").assign(\n",
    "    # Assign the answer generation process to the document chain (refer to Step 9)\n",
    "    answer=document_chain,\n",
    ")"
   ]
  },
  {
   "cell_type": "markdown",
   "metadata": {},
   "source": [
    "### Step 20: Testing the Conversational Retrieval Chain with an Unrelated Query\n",
    "\n",
    "This step tests the robustness of the final conversational retrieval-augmented generation (RAG) pipeline by providing a query unrelated to the available context in the documents.\n",
    "\n",
    "#### Notes:\n",
    "- **Relevance of the Test**:\n",
    "   - Real-world systems often encounter queries beyond their knowledge scope, making this a critical behavior to validate."
   ]
  },
  {
   "cell_type": "code",
   "execution_count": 28,
   "metadata": {},
   "outputs": [
    {
     "data": {
      "text/plain": [
       "{'messages': [HumanMessage(content='Can LangSmith help test my LLM applications?', additional_kwargs={}, response_metadata={})],\n",
       " 'context': [Document(metadata={}, page_content='noch in den Anfängen und wird derzeit vor allem für Kryptowährungstransaktionen und \\nEigentumsnachweise genutzt  (Tanwar et al., 2024, S. 1457) . \\nEs bestehen Herausforderungen wie Skalierbarkeitsprobleme bei grossen Wahlen und die \\nschwierige Balance zwischen Anonymität und Nachvollziehbarkeit. Lösungsansätze umfassen \\nZero-Knowledge -Proofs und homomorphe Verschlüsselung, um Datenschutz und \\nVerifizierba rkeit zu gewährleisten  (Hajian Berenjestanaki et al., 2024, S. 26) . Während die \\nTechnologie grosses Potenzial zeigt, sind weitere Forschung und praktische Tests notwendig, um \\nsie für den breiten Einsatz in demokratischen Wahlen zu optimieren  (Hajian Berenjestanaki et al., \\n2024, S. 31) . Die Akzeptanz solcher Systeme hängt massgeblich von der wahrgenommenen \\nBenutzerfreundlichkeit und dem Nutzen ab, wobei Vertrauen in die Technologie eine zentrale \\nRolle spielt  (Mannonov & Myeong, 2024, S. 1) . Die Integration von künstlicher Intelligenz könnte'),\n",
       "  Document(metadata={}, page_content='bestehe nden Verfahren verbesserte Ergebnisse hinsichtlich Authentifizierungsverzögerung, \\nAngriffserkennung (z.\\u202fB.  DDoS) und Manipulationssicherheit aufweist (Rathee et al., 2021, S. \\n34175) . \\nVladucu et al. (2023, S. 23294)  bieten einen Überblick über mehr als 60 Blockchain -basierte E -\\nVoting -Systeme. Die Studie beleuchtet die Potenziale von Blockchain zur Erhöhung von \\nTransparenz, Sicherheit und Unveränderbarkeit elektronischer Wahlprozesse. Dabei werden \\nverschiedene Blockch ain-Typen (öffentlich, privat, hybrid), Konsensalgorithmen (z.\\u202fB. Proof of \\nWork, PBFT, Proof of Vote) sowie kryptografische Verfahren (z.\\u202fB. Zero -Knowledge -Proofs, Blind \\nSignatures) vorgestellt (Vladucu et al., 2023, S. 23295, 23296) . Es werden reale Anwendungen \\naus Ländern wie Estland, Australien, Russland und der Schweiz analysiert und kommerzielle \\nSysteme wie Voatz, Polyas oder Follow My Vote diskutiert  (Vladucu et al., 2023, S. 23303) . Die 4'),\n",
       "  Document(metadata={}, page_content='Systeme wie Voatz, Polyas oder Follow My Vote diskutiert  (Vladucu et al., 2023, S. 23303) . Die 4 \\n Autoren identifizieren offene Forschungsfelder, zum Beispiel hinsichtlich Skalierbarkeit, \\nBenutzerfreundlichkeit, Interoperabilität und Vertrauensbildung, besonders für Nutzergruppen \\nohne technische Affinität (Vladucu et al., 2023, S. 23299) .  \\nAlshehri et al. (2023, S. 1)  beschreiben ein Blockchain -basiertes E -Voting -System, das Score -\\nVoting ermöglicht und dabei Privatsphäre sowie Sicherheit gewährleistet. Das System nutzt Zero -\\nKnowledge -Beweise, um sicherzustellen, dass die abgegebenen Stimmen innerhalb eines \\ndefinierten B ereichs liegen, ohne die konkreten Werte preiszugeben (Alshehri et al., 2023, S. 2) . \\nDurch die Dezentralität der Blockchain wird Manipulation verhindert und Transparenz gewahrt. \\nExperimentelle Ergebnisse zeigen, dass das System bis zu 10.000 Transaktionen effizient'),\n",
       "  Document(metadata={}, page_content='Experimentelle Ergebnisse zeigen, dass das System bis zu 10.000 Transaktionen effizient \\nverarbeiten kann, was es für kleine bis mittelgrosse Wahlen geeignet mach t (Alshehri et al., 2023, \\nS. 14) . \\nDie Hauptvorteile von Blockchain -basierten E -Voting -Systemen sind Sicherheit, Transparenz und \\nEffizienz durch Unveränderbarkeit, Dezentralisierung und Smart Contracts (Hajian \\nBerenjestanaki et al., 2024, S. 1)  sowie eine potentiell höhere Wahlbeteiligung (Mannonov & \\nMyeong, 2024, S. 14) . Smart Contracts sind digitale Verträge, die auf der Blockchain gespeichert \\nund automatisch ausgeführt werden, sobald die im Code festgelegten Bedingungen erfüllt sind. \\nSie fungieren als Backend für dezentrale Anwendungen und ermöglichen den sicheren Austau sch \\ndigitaler Vermögenswerte ohne Zwischeninstanzen. Trotz ihres Potenzials steckt die Technologie \\nnoch in den Anfängen und wird derzeit vor allem für Kryptowährungstransaktionen und')],\n",
       " 'answer': \"I don't know. This document discusses blockchain-based e-voting systems.  It does not mention LangSmith or its capabilities.\\n\"}"
      ]
     },
     "execution_count": 28,
     "metadata": {},
     "output_type": "execute_result"
    }
   ],
   "source": [
    "conversational_retrieval_chain.invoke(\n",
    "    {\n",
    "        \"messages\": [\n",
    "            HumanMessage(content=\"Can LangSmith help test my LLM applications?\"),\n",
    "        ]\n",
    "    }\n",
    ")"
   ]
  },
  {
   "cell_type": "markdown",
   "metadata": {},
   "source": [
    "### Step 21: Verifying the Conversational Retrieval Chain in the Target Use Case\n",
    "\n",
    "1. **Test Input**:\n",
    "   - **Initial Query**:\n",
    "     - `\"What is the difference between high and medium protein-based diets?\"`\n",
    "   - **AI Response** (provided in the test input to simulate a prior response):\n",
    "     - Summarizes a study about the effects of high and normal protein diets on body composition and glucose control.\n",
    "   - **Follow-Up Query**:\n",
    "     - `\"Tell me more!\"`—a vague request that relies on the system to infer and retrieve additional context."
   ]
  },
  {
   "cell_type": "code",
   "execution_count": 29,
   "metadata": {},
   "outputs": [
    {
     "data": {
      "text/plain": [
       "{'messages': [HumanMessage(content='What is the difference between high and medium protein-based diets?', additional_kwargs={}, response_metadata={}),\n",
       "  AIMessage(content='he study found that both high and normal protein diets improved body composition and glucose control in adults with type 2 diabetes. The lack of observed effects of dietary protein and red meat consumption on weight loss and improved cardiometabolic health suggest that achieved weight loss – rather than diet composition – should be the principal target of dietary interventions for T2D management.', additional_kwargs={}, response_metadata={}),\n",
       "  HumanMessage(content='Tell me more!', additional_kwargs={}, response_metadata={})],\n",
       " 'context': [Document(metadata={}, page_content='bestehe nden Verfahren verbesserte Ergebnisse hinsichtlich Authentifizierungsverzögerung, \\nAngriffserkennung (z.\\u202fB.  DDoS) und Manipulationssicherheit aufweist (Rathee et al., 2021, S. \\n34175) . \\nVladucu et al. (2023, S. 23294)  bieten einen Überblick über mehr als 60 Blockchain -basierte E -\\nVoting -Systeme. Die Studie beleuchtet die Potenziale von Blockchain zur Erhöhung von \\nTransparenz, Sicherheit und Unveränderbarkeit elektronischer Wahlprozesse. Dabei werden \\nverschiedene Blockch ain-Typen (öffentlich, privat, hybrid), Konsensalgorithmen (z.\\u202fB. Proof of \\nWork, PBFT, Proof of Vote) sowie kryptografische Verfahren (z.\\u202fB. Zero -Knowledge -Proofs, Blind \\nSignatures) vorgestellt (Vladucu et al., 2023, S. 23295, 23296) . Es werden reale Anwendungen \\naus Ländern wie Estland, Australien, Russland und der Schweiz analysiert und kommerzielle \\nSysteme wie Voatz, Polyas oder Follow My Vote diskutiert  (Vladucu et al., 2023, S. 23303) . Die 4'),\n",
       "  Document(metadata={}, page_content='voting system. Multimedia Tools and Applications , 83(1), 1449 –1480. \\nhttps://doi.org/10.1007/s11042 -023-15401 -1 \\nVladucu, M. -V., Dong, Z., Medina, J., & Rojas -Cessa, R. (2023). E -Voting Meets Blockchain: A \\nSurvey. IEEE Access , 11, 23293 –23308. IEEE Access. \\nhttps://doi.org/10.1109/ACCESS.2023.3253682  \\nZhang, X., Zhang, B., Kiayias, A., Zacharias, T., & Ren, K. (2022). An Efficient E2E Crowd \\nVerifiable E -Voting System. IEEE Transactions on Dependable and Secure Computing , \\n19(6), 3607 –3620. IEEE Transactions on Dependable and Secure Computing. \\nhttps://doi.org/10.1109/TDSC.2021.3103336'),\n",
       "  Document(metadata={}, page_content='Experimentelle Ergebnisse zeigen, dass das System bis zu 10.000 Transaktionen effizient \\nverarbeiten kann, was es für kleine bis mittelgrosse Wahlen geeignet mach t (Alshehri et al., 2023, \\nS. 14) . \\nDie Hauptvorteile von Blockchain -basierten E -Voting -Systemen sind Sicherheit, Transparenz und \\nEffizienz durch Unveränderbarkeit, Dezentralisierung und Smart Contracts (Hajian \\nBerenjestanaki et al., 2024, S. 1)  sowie eine potentiell höhere Wahlbeteiligung (Mannonov & \\nMyeong, 2024, S. 14) . Smart Contracts sind digitale Verträge, die auf der Blockchain gespeichert \\nund automatisch ausgeführt werden, sobald die im Code festgelegten Bedingungen erfüllt sind. \\nSie fungieren als Backend für dezentrale Anwendungen und ermöglichen den sicheren Austau sch \\ndigitaler Vermögenswerte ohne Zwischeninstanzen. Trotz ihres Potenzials steckt die Technologie \\nnoch in den Anfängen und wird derzeit vor allem für Kryptowährungstransaktionen und'),\n",
       "  Document(metadata={}, page_content='https://doi.org/10.3390/electronics13010017  \\nJayakumari, B., Sheeba, S. L., Eapen, M., Anbarasi, J., Ravi, V., Suganya, A., & Jawahar, M. \\n(2024). E -voting system using cloud -based hybrid blockchain technology. Journal of \\nSafety Science and Resilience , 5(1), 102 –109. \\nhttps://doi.org/10.1016/j.jnlssr.2024.01.002  \\nMannonov, K. M. ugli, & Myeong, S. (2024). Citizens’ Perception of Blockchain -Based E -Voting \\nSystems: Focusing on TAM. Sustainability , 16(11), Article 11. \\nhttps://doi.org/10.3390/su16114387  \\nPetitpas, A., Jaquet, J. M., & Sciarini, P. (2021). Does E -Voting matter for turnout, and to whom? \\nElectoral Studies , 71, 102245. https://doi.org/10.1016/j.electstud.2020.102245  \\nPleger, L. E., & Mertes, A. (2018). Use and assessment of e -voting systems: Findings from an \\nonline -survey among Swiss nationals living abroad. In Swiss Yearbook of Administrative \\nScience  (Bd. 9). Schweizerische Gesellschaft für Verwaltungswissenschaften. \\nhttps://doi.org/10.5334/ssas.1')],\n",
       " 'answer': 'I cannot provide you with more information on the differences between high and medium protein-based diets. The provided text focuses on blockchain technology and e-voting systems.  It does not discuss dietary information.\\n'}"
      ]
     },
     "execution_count": 29,
     "metadata": {},
     "output_type": "execute_result"
    }
   ],
   "source": [
    "conversational_retrieval_chain.invoke(\n",
    "    {\n",
    "        \"messages\": [\n",
    "            HumanMessage(content=\"What is the difference between high and medium protein-based diets?\"),\n",
    "            AIMessage(\n",
    "                content=\"he study found that both high and normal protein diets improved body composition and glucose control in adults with type 2 diabetes. The lack of observed effects of dietary protein and red meat consumption on weight loss and improved cardiometabolic health suggest that achieved weight loss – rather than diet composition – should be the principal target of dietary interventions for T2D management.\"\n",
    "            ),\n",
    "            HumanMessage(content=\"Tell me more!\"),\n",
    "        ],\n",
    "    }\n",
    "    )"
   ]
  },
  {
   "cell_type": "markdown",
   "metadata": {},
   "source": [
    "### Step 22: Wrapping the Conversational Retrieval Pipeline in a Function\n",
    "\n",
    "This step wraps the entire conversational retrieval-augmented generation (RAG) pipeline into a single reusable function. The function manages the conversation history, tracks the query, and generates answers, ensuring a seamless user experience.\n",
    "\n",
    "It is decorated with `@weave.op()` to log and track the process in **Weights & Biases** (Weave).\n",
    "\n",
    "The `@weave.op()` decorator ensures that each query and response are logged in **Weights & Biases**, enabling tracking, monitoring, and debugging of the conversational process.\n",
    "\n",
    "5. **Example Usage**:\n",
    "   ```python\n",
    "   conversation = {\"messages\": []}\n",
    "   print(await get_answer(\"What is the difference between high and medium protein-based diets?\", conversation))\n",
    "   print(await get_answer(\"Tell me more!\", conversation)"
   ]
  },
  {
   "cell_type": "code",
   "execution_count": 30,
   "metadata": {},
   "outputs": [],
   "source": [
    "@weave.op()\n",
    "async def get_answer(question: str, messages: dict):\n",
    "    \"\"\"\n",
    "    Handles user queries by appending them to the conversation history, \n",
    "    processing the query through the conversational retrieval chain, \n",
    "    and appending the AI's response back to the messages.\n",
    "\n",
    "    Parameters:\n",
    "    - question (str): The user's input question.\n",
    "    - messages (dict): A dictionary containing the conversation history \n",
    "                       with a \"messages\" key holding a list of message objects.\n",
    "\n",
    "    Returns:\n",
    "    - str: The generated answer from the system.\n",
    "    \"\"\"\n",
    "    # Add the user's question to the conversation history\n",
    "    messages[\"messages\"].append(HumanMessage(content=question))\n",
    "    \n",
    "    # Process the query through the conversational retrieval chain\n",
    "    answer = conversational_retrieval_chain.invoke(messages)\n",
    "    \n",
    "    # Add the system's response to the conversation history\n",
    "    messages[\"messages\"].append(AIMessage(content=answer[\"answer\"]))\n",
    "    \n",
    "    # Return the generated answer\n",
    "    return answer[\"answer\"]"
   ]
  },
  {
   "cell_type": "code",
   "execution_count": 31,
   "metadata": {},
   "outputs": [
    {
     "name": "stdout",
     "output_type": "stream",
     "text": [
      "🍩 https://wandb.ai/kaisest1-zhaw/own-data-chatbot/r/call/0196b9a8-06ea-7eb3-a7c5-289d9ecfbade\n",
      "This text focuses on Switzerland and doesn't mention E-Voting popularity (or lack thereof) in other countries.  Therefore, I don't know.\n",
      "\n"
     ]
    }
   ],
   "source": [
    "\n",
    "messages = {\"messages\": []} \n",
    "answer = asyncio.get_event_loop().run_until_complete(get_answer(\"In which country is E-voting not popular?\", messages))\n",
    "print(answer) "
   ]
  },
  {
   "cell_type": "markdown",
   "metadata": {},
   "source": [
    "<p style=\"color:green; font-size: 16px;\">\n",
    "<b>Exercise: Testing the Full Retrieval-Augmented Generation (RAG) Pipeline</b><br>\n",
    "<b>Goal:</b> Evaluate the performance of the complete RAG pipeline by testing it with diverse queries and identifying its strengths and weaknesses.<br><br>\n",
    "\n",
    "<b>Instructions:</b><br>\n",
    "<ul style=\"color:green;\">\n",
    "<li><b>Prepare a Set of Queries:</b></li>\n",
    "<ul style=\"color:green;\">\n",
    "    <li>Create at least five queries that vary in nature, including:</li>\n",
    "    <ul style=\"color:green;\">\n",
    "        <li>A highly specific query.</li>\n",
    "        <li>A vague or open-ended query.</li>\n",
    "        <li>A multi-part or follow-up query.</li>\n",
    "    </ul>\n",
    "</ul>\n",
    "<li><b>Run the Pipeline:</b></li>\n",
    "<ul style=\"color:green;\">\n",
    "    <li>Input each query into the full RAG pipeline.</li>\n",
    "    <li>Observe and document the generated responses, including:</li>\n",
    "    <ul style=\"color:green;\">\n",
    "        <li>The documents retrieved.</li>\n",
    "        <li>The final generated output.</li>\n",
    "    </ul>\n",
    "</ul>\n",
    "<li><b>Analyze Performance:</b></li>\n",
    "<ul style=\"color:green;\">\n",
    "    <li>For each query, analyze:</li>\n",
    "    <ul style=\"color:green;\">\n",
    "        <li><b>Strengths:</b> What aspects of the query were handled well (e.g., relevance, coherence, accuracy)?</li>\n",
    "        <li><b>Weaknesses:</b> What challenges did the pipeline face (e.g., irrelevant documents, poor contextual understanding, incomplete answers)?</li>\n",
    "        <li><b>Patterns:</b> Are there consistent issues or successes across the queries?</li>\n",
    "    </ul>\n",
    "</ul>\n",
    "<li><b>Document Findings:</b></li>\n",
    "<ul style=\"color:green;\">\n",
    "    <li>Checke the following in weave:</li>\n",
    "    <ul style=\"color:green;\">\n",
    "        <li><b>Query type.</b></li>\n",
    "        <li><b>Retrieved documents</b> (relevance and quality).</li>\n",
    "        <li><b>Generated output</b> (clarity and accuracy).</li>\n",
    "        <li><b>Overall evaluation</b> (what worked, what didn’t).</li>\n",
    "    </ul>\n",
    "</ul>\n",
    "</ul>\n",
    "\n",
    "<b>Purpose:</b> This exercise helps you critically evaluate the end-to-end functionality of the RAG pipeline, highlighting areas of success and identifying limitations that could guide future improvements.\n",
    "</p>"
   ]
  },
  {
   "cell_type": "code",
   "execution_count": 32,
   "metadata": {},
   "outputs": [
    {
     "name": "stdout",
     "output_type": "stream",
     "text": [
      "🍩 https://wandb.ai/kaisest1-zhaw/own-data-chatbot/r/call/0196b9db-a023-76b2-b026-f3cf418cc711\n",
      "While the provided text discusses various aspects of e-voting like security, data privacy, trust, usability, and its impact on voter turnout, it doesn't explicitly state one main overarching question about e-voting.  It focuses more on summarizing research related to these aspects.\n",
      "\n"
     ]
    }
   ],
   "source": [
    "messages = {\"messages\": []} \n",
    "answer = asyncio.get_event_loop().run_until_complete(get_answer(\"What is the main question abaout E-Voting?\", messages))\n",
    "print(answer) "
   ]
  },
  {
   "cell_type": "code",
   "execution_count": 33,
   "metadata": {},
   "outputs": [
    {
     "name": "stdout",
     "output_type": "stream",
     "text": [
      "🍩 https://wandb.ai/kaisest1-zhaw/own-data-chatbot/r/call/0196b9dd-cf40-7c21-ad6b-dc4feebc34a2\n",
      "I don't know. While the text discusses academic studies on e-voting, it doesn't provide information that would allow me to assess it as a university-level work.  A grade would depend on the specific assignment, the depth of analysis, the quality of the arguments, and other factors not present in this text.\n",
      "\n"
     ]
    }
   ],
   "source": [
    "messages = {\"messages\": []} \n",
    "answer = asyncio.get_event_loop().run_until_complete(get_answer(\"If the Text is a written work in University. What vould be the grade? from 1-6 and 6 is the best?\", messages))\n",
    "print(answer) "
   ]
  },
  {
   "cell_type": "code",
   "execution_count": 35,
   "metadata": {},
   "outputs": [
    {
     "name": "stdout",
     "output_type": "stream",
     "text": [
      "🍩 https://wandb.ai/kaisest1-zhaw/own-data-chatbot/r/call/0196b9de-d99d-7922-8c61-b7c2fed37e91\n",
      "I don't know.  The provided text discusses e-voting systems and research related to their implementation and user perception, it does not mention grading anything.\n",
      "\n"
     ]
    }
   ],
   "source": [
    "messages = {\"messages\": []} \n",
    "answer = asyncio.get_event_loop().run_until_complete(get_answer(\"are you sure that you cant give a grade?\", messages))\n",
    "print(answer) "
   ]
  },
  {
   "cell_type": "code",
   "execution_count": null,
   "metadata": {},
   "outputs": [],
   "source": []
  }
 ],
 "metadata": {
  "kernelspec": {
   "display_name": "Python 3",
   "language": "python",
   "name": "python3"
  },
  "language_info": {
   "codemirror_mode": {
    "name": "ipython",
    "version": 3
   },
   "file_extension": ".py",
   "mimetype": "text/x-python",
   "name": "python",
   "nbconvert_exporter": "python",
   "pygments_lexer": "ipython3",
   "version": "3.12.1"
  }
 },
 "nbformat": 4,
 "nbformat_minor": 2
}
